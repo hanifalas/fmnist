{
  "nbformat": 4,
  "nbformat_minor": 0,
  "metadata": {
    "colab": {
      "name": "Project_Deep_Learning_Kelompok_1.ipynb",
      "version": "0.3.2",
      "provenance": []
    },
    "kernelspec": {
      "name": "python3",
      "display_name": "Python 3"
    },
    "accelerator": "GPU"
  },
  "cells": [
    {
      "cell_type": "code",
      "metadata": {
        "id": "KVToBcuRKZ5A",
        "colab_type": "code",
        "colab": {}
      },
      "source": [
        "import numpy as np\n",
        "import pandas as pd\n",
        "import matplotlib.pyplot as plt\n",
        "%matplotlib inline\n",
        "import tensorflow as tf\n",
        "from tensorflow.examples.tutorials.mnist import input_data\n",
        "import keras\n",
        "from keras.datasets import fashion_mnist\n",
        "from keras.models import Sequential\n",
        "from keras.layers import InputLayer, Convolution2D, Conv2D, MaxPooling2D, MaxPool2D\n",
        "from keras.layers import Activation, Dropout, Flatten, Dense\n",
        "from keras.layers.normalization import BatchNormalization\n",
        "from keras.optimizers import Adam, RMSprop\n",
        "from keras.utils import np_utils\n",
        "from sklearn.model_selection import train_test_split\n",
        "from sklearn.metrics import classification_report, confusion_matrix, f1_score, accuracy_score\n"
      ],
      "execution_count": 0,
      "outputs": []
    },
    {
      "cell_type": "markdown",
      "metadata": {
        "id": "Q-lPJbVbX3NN",
        "colab_type": "text"
      },
      "source": [
        "## Memuat Data\n",
        "\n",
        "Data fashion mnist dimuat dari kumpulan-kumpulan dataset yang sudah ada di *library* Keras. Berdasarkan keterangan pada [dokumentasinya](https://keras.io/datasets/#fashion-mnist-database-of-fashion-articles) data itu terdiri suatu data latih yang terdiri dari 60000 *examples* atau observasi-observasi berlabel. Tiap-tiap observasi tersusun atas numpy *array* berukuran 28x28 yang merepresentasikan jumlah *pixel* dari tiap-tiap observasi. Di samping itu juga ada dataset uji, yang meskipun namanya data uji namun juga tetap memiliki label. *Return values*-nya berupa 2 *tuple*. Anggota-anggota dari tiap-tiap *tuple* itu memiliki tipe data numpy *ndarray*."
      ]
    },
    {
      "cell_type": "code",
      "metadata": {
        "id": "SgIYLsoaPCzT",
        "colab_type": "code",
        "colab": {}
      },
      "source": [
        "(X_train, y_train), (X_test, y_test) = fashion_mnist.load_data()"
      ],
      "execution_count": 0,
      "outputs": []
    },
    {
      "cell_type": "markdown",
      "metadata": {
        "id": "xbeOqloiYYWO",
        "colab_type": "text"
      },
      "source": [
        "## Melihat Data dan Memeriksa Data\n",
        "\n",
        "Beberapa cara ditempuh untuk memastikan ukuran data yang dimuat sudah sesuai dengan yang ada didokumentasinya. Untuk ukuran fitur data latihnya tersusun dari 60000 observasi tiap-tiap observasi berukuran 28x28 pixel sehingga ukurang *dataset* fitur latih adalah 60000x28x28 sedangkan untuk *dataset* label latih adalah 60000x1. Untuk data uji, memiliki dimensi data fitur uji 10000x28x28 dan dimensi data label uji 10000x1\n"
      ]
    },
    {
      "cell_type": "code",
      "metadata": {
        "id": "KkSFW-yIYTTm",
        "colab_type": "code",
        "outputId": "445eb45d-03ba-44e2-96d4-c394008987fa",
        "colab": {
          "base_uri": "https://localhost:8080/",
          "height": 91
        }
      },
      "source": [
        "print('Ukuran X_train {}'.format(X_train.shape))\n",
        "print('Ukuran y_train {}'.format(y_train.shape))\n",
        "print('Ukuran X_test {}'.format(X_test.shape))\n",
        "print('Ukuran y_test {}'.format(y_test.shape))"
      ],
      "execution_count": 4,
      "outputs": [
        {
          "output_type": "stream",
          "text": [
            "Ukuran X_train (60000, 28, 28)\n",
            "Ukuran y_train (60000,)\n",
            "Ukuran X_test (10000, 28, 28)\n",
            "Ukuran y_test (10000,)\n"
          ],
          "name": "stdout"
        }
      ]
    },
    {
      "cell_type": "markdown",
      "metadata": {
        "id": "6_zMKK5Qhjin",
        "colab_type": "text"
      },
      "source": [
        "Selanjutnya adalah untuk melihat representasi gambar/ ke dalam *pixel* apakah di antara rentang kontinyu 0-1 atau rentang diskrit 0-255. Bisa dilakukan hanya dengan melihat nilai minimal dan maksimalnya. Selain itu perlu juga untuk melihat kemungkinan adanya label yang tidak sesuai. Dari dokumentasi Keras, labelnya ada 10 bernilai 0-9 untuk merepresentasikan label yang sebenarnya. Perlu dilihat bila ada label yang diluar rentang 0-9"
      ]
    },
    {
      "cell_type": "code",
      "metadata": {
        "id": "ZGYtznVPh7EW",
        "colab_type": "code",
        "outputId": "77e7c985-9c88-4b88-d0ae-7ae700bc3d93",
        "colab": {
          "base_uri": "https://localhost:8080/",
          "height": 183
        }
      },
      "source": [
        "print('=== X_train ===\\nNilai min = {} nilai max = {}'.format(np.min(X_train), np.max(X_train)))\n",
        "print('\\n=== X_test ===\\nNilai min = {} nilai max = {}'.format(np.min(X_test), np.max(X_test)))\n",
        "print('\\nLabel data latih = {}'.format(np.unique(y_train)))\n",
        "print('\\nLabel data uji = {}'.format(np.unique(y_test)))"
      ],
      "execution_count": 5,
      "outputs": [
        {
          "output_type": "stream",
          "text": [
            "=== X_train ===\n",
            "Nilai min = 0 nilai max = 255\n",
            "\n",
            "=== X_test ===\n",
            "Nilai min = 0 nilai max = 255\n",
            "\n",
            "Label data latih = [0 1 2 3 4 5 6 7 8 9]\n",
            "\n",
            "Label data uji = [0 1 2 3 4 5 6 7 8 9]\n"
          ],
          "name": "stdout"
        }
      ]
    },
    {
      "cell_type": "markdown",
      "metadata": {
        "id": "aLbqIhIbcO2u",
        "colab_type": "text"
      },
      "source": [
        "Untuk melihat lebih jauh lagi tipe data anggota-anggota dari *dataset* tersebut apakah bernilai *integer*, *float* atau malah *string*. Akan lebih mudah jika mengguanakan salah satu metode pandas *dataframe* yaitu, info(). Sehingga datanya perlu diubah dahulu ke dalam *dataframe* pandas. Berdasarkan kode di bawah ini tipe datanya sudah numerik yaitu uint8."
      ]
    },
    {
      "cell_type": "code",
      "metadata": {
        "id": "WvvwvxFPcMmn",
        "colab_type": "code",
        "outputId": "0a96a5cb-faa1-459f-f7e1-42bca84351a8",
        "colab": {
          "base_uri": "https://localhost:8080/",
          "height": 701
        }
      },
      "source": [
        "X_train_df = pd.DataFrame(X_train.reshape(X_train.shape[0], X_train.shape[1]*X_train.shape[2]))\n",
        "y_train_df = pd.DataFrame(y_train)\n",
        "X_test_df  = pd.DataFrame(X_test.reshape(X_test.shape[0], X_test.shape[1]*X_test.shape[2]))\n",
        "y_test_df  = pd.DataFrame(y_test)\n",
        "\n",
        "print('Ukuran X_train_df  {}'.format(X_train_df.shape))\n",
        "print('Ukuran y_train_df  {}'.format(y_train_df.shape))\n",
        "print('Ukuran X_test_df  {}'.format(X_test_df.shape))\n",
        "print('Ukuran y_test_df  {}'.format(y_test_df.shape))\n",
        "\n",
        "print('Info X_train')\n",
        "print(X_train_df.info())\n",
        "print('\\nInfo y_train')\n",
        "print(y_train_df.info())\n",
        "print('\\nInfo X_test')\n",
        "print(X_test_df.info())\n",
        "print('\\nInfo y_test')\n",
        "print(y_test_df.info())"
      ],
      "execution_count": 6,
      "outputs": [
        {
          "output_type": "stream",
          "text": [
            "Ukuran X_train_df  (60000, 784)\n",
            "Ukuran y_train_df  (60000, 1)\n",
            "Ukuran X_test_df  (10000, 784)\n",
            "Ukuran y_test_df  (10000, 1)\n",
            "Info X_train\n",
            "<class 'pandas.core.frame.DataFrame'>\n",
            "RangeIndex: 60000 entries, 0 to 59999\n",
            "Columns: 784 entries, 0 to 783\n",
            "dtypes: uint8(784)\n",
            "memory usage: 44.9 MB\n",
            "None\n",
            "\n",
            "Info y_train\n",
            "<class 'pandas.core.frame.DataFrame'>\n",
            "RangeIndex: 60000 entries, 0 to 59999\n",
            "Data columns (total 1 columns):\n",
            "0    60000 non-null uint8\n",
            "dtypes: uint8(1)\n",
            "memory usage: 58.7 KB\n",
            "None\n",
            "\n",
            "Info X_test\n",
            "<class 'pandas.core.frame.DataFrame'>\n",
            "RangeIndex: 10000 entries, 0 to 9999\n",
            "Columns: 784 entries, 0 to 783\n",
            "dtypes: uint8(784)\n",
            "memory usage: 7.5 MB\n",
            "None\n",
            "\n",
            "Info y_test\n",
            "<class 'pandas.core.frame.DataFrame'>\n",
            "RangeIndex: 10000 entries, 0 to 9999\n",
            "Data columns (total 1 columns):\n",
            "0    10000 non-null uint8\n",
            "dtypes: uint8(1)\n",
            "memory usage: 9.8 KB\n",
            "None\n"
          ],
          "name": "stdout"
        }
      ]
    },
    {
      "cell_type": "markdown",
      "metadata": {
        "id": "m7c9Gi8wgZaH",
        "colab_type": "text"
      },
      "source": [
        "Lihat 3 kolom pertama dari masing-masing *dataframe*"
      ]
    },
    {
      "cell_type": "code",
      "metadata": {
        "id": "AXsJpImxgYhR",
        "colab_type": "code",
        "outputId": "7ef3de23-95ad-45c0-f3bc-a23fc6ff7a1b",
        "colab": {
          "base_uri": "https://localhost:8080/",
          "height": 387
        }
      },
      "source": [
        "print(X_train_df.head(3))\n",
        "print(y_train_df.head(3))\n",
        "print(X_test_df.head(3))\n",
        "print(y_test_df.head(3))"
      ],
      "execution_count": 7,
      "outputs": [
        {
          "output_type": "stream",
          "text": [
            "   0    1    2    3    4    5    6    ...  777  778  779  780  781  782  783\n",
            "0    0    0    0    0    0    0    0  ...    0    0    0    0    0    0    0\n",
            "1    0    0    0    0    0    1    0  ...   76    0    0    0    0    0    0\n",
            "2    0    0    0    0    0    0    0  ...    0    0    0    0    0    0    0\n",
            "\n",
            "[3 rows x 784 columns]\n",
            "   0\n",
            "0  9\n",
            "1  0\n",
            "2  0\n",
            "   0    1    2    3    4    5    6    ...  777  778  779  780  781  782  783\n",
            "0    0    0    0    0    0    0    0  ...    0    0    0    0    0    0    0\n",
            "1    0    0    0    0    0    0    0  ...    3  174  189   67    0    0    0\n",
            "2    0    0    0    0    0    0    0  ...    0    0    0    0    0    0    0\n",
            "\n",
            "[3 rows x 784 columns]\n",
            "   0\n",
            "0  9\n",
            "1  2\n",
            "2  1\n"
          ],
          "name": "stdout"
        }
      ]
    },
    {
      "cell_type": "markdown",
      "metadata": {
        "id": "BeR8rTJQkbmD",
        "colab_type": "text"
      },
      "source": [
        "Langkah selanjutnya adalah memeriksa kemungkinan adanya data yang bernilai NaN. Meskipun dari metode info() sudah terlihat tidak memiliki NaN. Namun itu eksplisit hanya pada data label, untuk data fitur hanya implisit saja. Sehingga akan dipastikan menggunakan kode di bawah ini. Pandas *dataframe* dikenakan pada metode isnull() akan bernilai True (1) untuk data bertipe NaN, lainnya False (0). Metode sum() pertama melakukan penjumlahan di sepanjang baris dan *return values*-nya adalah pandas *series* kemudian dijumlahkan kedua kalinya untuk menghitung ada tidaknya nilai NaN. Akan bernilai nol jika tidak ada NaN, bernilai lainnya (bilangan bulat positif) jika ada NaN."
      ]
    },
    {
      "cell_type": "code",
      "metadata": {
        "id": "Ptx9avWbg-in",
        "colab_type": "code",
        "outputId": "38afb31a-a8bd-42a3-ae03-b7860e98b16b",
        "colab": {
          "base_uri": "https://localhost:8080/",
          "height": 54
        }
      },
      "source": [
        "print('Jumlah NaN di X_train_df = {}'.format(X_train_df.isnull().sum(axis=0).sum(axis=0)))\n",
        "print('Jumlah NaN di X_test_df = {}'.format(X_test_df.isnull().sum(axis=0).sum(axis=0)))"
      ],
      "execution_count": 8,
      "outputs": [
        {
          "output_type": "stream",
          "text": [
            "Jumlah NaN di X_train_df = 0\n",
            "Jumlah NaN di X_test_df = 0\n"
          ],
          "name": "stdout"
        }
      ]
    },
    {
      "cell_type": "markdown",
      "metadata": {
        "id": "RldSUPOWDBpF",
        "colab_type": "text"
      },
      "source": [
        "Ukuran dari X_train, y_train, X_test dan y_test masih belum sesuai untuk arsitektur CNN. Bentuk dari X_train dan X_test perlu diubah ke bentuk jumlah_observasi x image_height x image_width x image_depth. Untuk y_train dan y_test perlu diubah ke bentuk *one hot*.\n",
        "\n",
        "Selain itu representasi warna dalam angka masih diskrit di antara 0-255 sehingga nilai variabelnya bisa timpang begiupula ketika perhitungan, untuk itu perlu diskalakan ulang menjadi kontinyu di antara 0-1. "
      ]
    },
    {
      "cell_type": "code",
      "metadata": {
        "id": "w1Qb1WrcE5QV",
        "colab_type": "code",
        "outputId": "4573fa1b-7613-402b-8fe1-720e6cf888bc",
        "colab": {
          "base_uri": "https://localhost:8080/",
          "height": 35
        }
      },
      "source": [
        "img_height, img_width, img_depth = X_train.shape[1], X_train.shape[2], 1\n",
        "print(img_height, img_width, img_depth)"
      ],
      "execution_count": 9,
      "outputs": [
        {
          "output_type": "stream",
          "text": [
            "28 28 1\n"
          ],
          "name": "stdout"
        }
      ]
    },
    {
      "cell_type": "markdown",
      "metadata": {
        "id": "dai2DvTzOvsF",
        "colab_type": "text"
      },
      "source": [
        "Code dibawah ini untuk mengubah ukuran dari (jumlah_observasi x 28 x 28) menjadi (jumlah_observasi x 28 x 28 x1)dan juga untuk menskalakan ulang representasi warna menjadi kontinyu di antara 0-1. Selain itu juga mengubah nilai label ke bentuk *one hot*-nya sehingga bentuknya menjadi (jumlah_observasi x humlah_kelas).  "
      ]
    },
    {
      "cell_type": "code",
      "metadata": {
        "id": "iuHlXamgEDjC",
        "colab_type": "code",
        "colab": {}
      },
      "source": [
        "def reshape(fitur, target):\n",
        "  fitur = fitur.reshape(fitur.shape[0], img_height, img_width, img_depth)\n",
        "  target = np_utils.to_categorical(target, 10)\n",
        "  fitur = fitur.astype('float32')\n",
        "  fitur = fitur/255\n",
        "  return fitur, target"
      ],
      "execution_count": 0,
      "outputs": []
    },
    {
      "cell_type": "code",
      "metadata": {
        "id": "XoLsUAIbGmqk",
        "colab_type": "code",
        "outputId": "19be9d93-ee25-4849-bea7-6cd9b9680212",
        "colab": {
          "base_uri": "https://localhost:8080/",
          "height": 202
        }
      },
      "source": [
        "X_train_baru, y_train_baru = reshape(X_train, y_train)\n",
        "X_test_baru, y_test_baru = reshape(X_test, y_test)\n",
        "\n",
        "# Cek ulang beberapa hal\n",
        "print('Ukuran X_train_baru {}'.format(X_train_baru.shape))\n",
        "print('Ukuran y_train_baru {}'.format(y_train_baru.shape))\n",
        "print('Ukuran X_test_bar {}'.format(X_test_baru.shape))\n",
        "print('Ukuran y_test_baru {}'.format(y_test_baru.shape))\n",
        "\n",
        "print('\\n=== X_train_baru ===\\nNilai min = {} nilai max = {}'.format(np.min(X_train_baru), np.max(X_train_baru)))\n",
        "print('\\n=== X_test_baru ===\\nNilai min = {} nilai max = {}'.format(np.min(X_test_baru), np.max(X_test_baru)))"
      ],
      "execution_count": 11,
      "outputs": [
        {
          "output_type": "stream",
          "text": [
            "Ukuran X_train_baru (60000, 28, 28, 1)\n",
            "Ukuran y_train_baru (60000, 10)\n",
            "Ukuran X_test_bar (10000, 28, 28, 1)\n",
            "Ukuran y_test_baru (10000, 10)\n",
            "\n",
            "=== X_train_baru ===\n",
            "Nilai min = 0.0 nilai max = 1.0\n",
            "\n",
            "=== X_test_baru ===\n",
            "Nilai min = 0.0 nilai max = 1.0\n"
          ],
          "name": "stdout"
        }
      ]
    },
    {
      "cell_type": "markdown",
      "metadata": {
        "id": "4ZgAHp-IzArc",
        "colab_type": "text"
      },
      "source": [
        "## Visualisasi Data\n",
        "\n",
        "Visualisasi data yang pertama adalah digunakan untuk mengetahui jumlah observasi dari masing-masing kelas pada dataset latih dan dataset uji."
      ]
    },
    {
      "cell_type": "code",
      "metadata": {
        "id": "5_Qh3hw3WoHH",
        "colab_type": "code",
        "colab": {}
      },
      "source": [
        "def bar_plot(data1, labels1, jenis): #data1=X_train, labels1=y_train\n",
        "  uplot_df = pd.DataFrame(data1.reshape(data1.shape[0], data1.shape[1]*data1.shape[2]))\n",
        "  uplot_df[784] = labels1\n",
        "  global num_per_kelas\n",
        "  num_per_kelas = pd.DataFrame((uplot_df.groupby(784).size()))\n",
        "  num_per_kelas[1] = range(0,10)\n",
        "  global nominal\n",
        "  nominal = {0:'T-shirt/top',\n",
        "             1:'Trouser',\n",
        "             2:'Pullover',\n",
        "             3:'Dress',\n",
        "             4:'Coat',\n",
        "             5:'Sandal',\n",
        "             6:'Shirt',\n",
        "             7:'Sneaker',\n",
        "             8:'Bag',\n",
        "             9:'Ankle boot'}\n",
        "\n",
        "  num_per_kelas[1] = num_per_kelas[1].map(nominal)\n",
        "  plt.bar(x=num_per_kelas[1], height=num_per_kelas[0], color='green')\n",
        "  plt.title('Grafik Jumlah Observasi pada Suatu Kelas di Dataset '+str(jenis))\n",
        "  plt.show()"
      ],
      "execution_count": 0,
      "outputs": []
    },
    {
      "cell_type": "code",
      "metadata": {
        "id": "Z-T7raDKWxKq",
        "colab_type": "code",
        "outputId": "b7aa52b0-5642-472a-eaf1-e10e6c122038",
        "colab": {
          "base_uri": "https://localhost:8080/",
          "height": 545
        }
      },
      "source": [
        "bar_plot(X_train, y_train, 'Latih')\n",
        "bar_plot(X_test, y_test, 'Uji')"
      ],
      "execution_count": 13,
      "outputs": [
        {
          "output_type": "display_data",
          "data": {
            "image/png": "[encoded data removed]",
            "text/plain": [
              "<Figure size 432x288 with 1 Axes>"
            ]
          },
          "metadata": {
            "tags": []
          }
        },
        {
          "output_type": "display_data",
          "data": {
            "image/png": "[encoded data removed]",
            "text/plain": [
              "<Figure size 432x288 with 1 Axes>"
            ]
          },
          "metadata": {
            "tags": []
          }
        }
      ]
    },
    {
      "cell_type": "markdown",
      "metadata": {
        "id": "r9Km6t1CjjOf",
        "colab_type": "text"
      },
      "source": [
        "Bagian ini untuk memvisualisasikan masing-masing observasi yang masih berbentuk *pixel* menjadi suatu gambar. Pemilihan data dilakukan secara acak menggunakan metode randomint(). Untuk mengubah pixel itu menggunakan metode imshow() dengan parameter cmap bernilai 'grey'."
      ]
    },
    {
      "cell_type": "code",
      "metadata": {
        "id": "SblsRsf78CMF",
        "colab_type": "code",
        "outputId": "d66c5c0f-69a2-4c2c-f3db-3c2d4ea1147c",
        "colab": {
          "base_uri": "https://localhost:8080/",
          "height": 421
        }
      },
      "source": [
        "fig, axes = plt.subplots(2,5)\n",
        "fig.set_size_inches(12, 8)\n",
        "for row in axes:\n",
        "  for axe in row:\n",
        "    idx = np.random.randint(0, 10000)\n",
        "    axe.imshow(X_train[idx,:,:], cmap='gray')\n",
        "    axe.text(10, 35, nominal[y_train[idx]], fontdict={'fontsize':12})"
      ],
      "execution_count": 14,
      "outputs": [
        {
          "output_type": "display_data",
          "data": {
            "image/png": "[encoded data removed]",
            "text/plain": [
              "<Figure size 864x576 with 10 Axes>"
            ]
          },
          "metadata": {
            "tags": []
          }
        }
      ]
    },
    {
      "cell_type": "markdown",
      "metadata": {
        "id": "rKv_B-Rm5jmT",
        "colab_type": "text"
      },
      "source": [
        "## Arsitektur CNN"
      ]
    },
    {
      "cell_type": "markdown",
      "metadata": {
        "id": "Xv0ZQeVIMFYg",
        "colab_type": "text"
      },
      "source": [
        "### Arsitektur CNN_1 \n",
        "\n",
        "Arsitektur ConvNet ini terdiri dari 1 lapisan masukan (*input*), 4 lapisan konvolusi dan 2 lapisan *fully concected standard neural network* sebagai *hidden layer*-nya, dan 1 lapisan keluaran (*output*). \n",
        "\n",
        "*Hidden layer* yang pertama berupa lapisan konvolusi yang memiliki 64 *filter* dengan ukuran 4 x 4. Fungsi aktifasi yang digunakan adalah ReLU dan *padding*-nya bernilai *'same'*. Sehingga menghasilkan output dengan tinggi x lebar yang sama seperti input yaitu (28 x 28) ditambah ke dalaman 64 lapis (28 x 28 x 64).\n",
        "\n",
        "*Hidden layer* kedua juga berupa lapisan konvolusi dengan argumen-argumen yang sama. Namun memiliki *maximum pooling* dengan ukuran (2 x 2) dan *stride* = 2 sehingga ouputnya adalah separuh dari sebelumnya, yaitu (14 x 14 x 64). Kemudian hanya 75% yang digunakan (*dropout* = 25%)\n",
        "\n",
        "*Hidden layer* ketiga berupa lapisan konvolusi yang memiliki 64 *filter* berukuran (3 x 3). Fungsi aktifasi yang digunakan adalah ReLU dan *padding*-nya bernilai *'same'*. Sehingga menghasilkan output dengan tinggi x lebar x kedalaman yang sama seperti input yaitu (14 x 14 x 64).\n",
        "\n",
        "*Hidden layer* keempat berupa lapisan konvolusi yang memiliki 64 *filter* berukuran (3 x 3). Namun diikuti dengan *maximum pooling* untuk memperkecil *feature map*/ *convolved layer* menjadi berukuran separuhnya (7 x 7 x 64). Dan digunakan hanya 0.6 bagiannya saja (*dropout* = 0.4)\n",
        "\n",
        "Kemudian lapisan-lapisan konvolusi itu dihubungkan dengan lapisan *fully connected*/ *standard neural network*. Pertama kali output dari CNN perlu didatarkan kemudian dinormalisasi.\n",
        "Lapisan *fully connected* yang pertama memiliki 512 *neuron* sedangkan yang kedua memiliki 64 *neuron*. Keduanya menggunakan fungsi aktifasi ReLU dan *dropout* = 0.2. *Output* lapisan *fully connected* kedua dinormalisasi.\n",
        "\n",
        "Lapisan-lapisan yang sebelumnya itu kemudian dihubungkan dengan lapisan *output* yang memiliki 10 *neuron* untuk merepresentasikan kelas. Fungsi aktifasi yang digunakan adalah softmax.\n",
        "\n",
        "Untuk menghitung *cost function* digunakan *categorical costentropy* menggunakan pengoptimasi Adam."
      ]
    },
    {
      "cell_type": "code",
      "metadata": {
        "id": "xZR6g2mrMIDW",
        "colab_type": "code",
        "outputId": "93d753f0-88e7-4f57-944f-4bc871ab2b8d",
        "colab": {
          "base_uri": "https://localhost:8080/",
          "height": 1000
        }
      },
      "source": [
        "def cnn1():\n",
        "  cnn = Sequential()\n",
        "  \n",
        "  cnn.add(InputLayer(input_shape=(img_height, img_width, img_depth)))\n",
        "  \n",
        "  cnn.add(Convolution2D(64, (4, 4), padding='same', activation='relu'))\n",
        "  \n",
        "  cnn.add(Convolution2D(64, (4, 4), padding='same', activation='relu'))\n",
        "  cnn.add(MaxPooling2D(pool_size=(2, 2)))\n",
        "  cnn.add(Dropout(0.25))\n",
        "  \n",
        "  cnn.add(Convolution2D(64, (3, 3), padding='same', activation='relu'))\n",
        "  \n",
        "  cnn.add(Convolution2D(64, (3, 3), padding='same', activation='relu'))\n",
        "  cnn.add(MaxPooling2D(pool_size=(2, 2)))\n",
        "  cnn.add(Dropout(0.4))\n",
        "  \n",
        "  cnn.add(Flatten())\n",
        "  cnn.add(BatchNormalization())\n",
        "  \n",
        "  cnn.add(Dense(512, activation='relu'))\n",
        "  cnn.add(Dropout(0.2))\n",
        "  \n",
        "  cnn.add(Dense(64, activation='relu'))\n",
        "  cnn.add(BatchNormalization())\n",
        "  cnn.add(Dropout(0.2))\n",
        "  \n",
        "  cnn.add(Dense(10, activation='softmax'))\n",
        "  cnn.compile(loss='categorical_crossentropy',\n",
        "              optimizer= Adam(),\n",
        "              metrics=['accuracy'])\n",
        "\n",
        "  return cnn\n",
        "cnn1().summary()"
      ],
      "execution_count": 15,
      "outputs": [
        {
          "output_type": "stream",
          "text": [
            "WARNING: Logging before flag parsing goes to stderr.\n",
            "W0818 18:38:24.848601 139717958825856 deprecation_wrapper.py:119] From /usr/local/lib/python3.6/dist-packages/keras/backend/tensorflow_backend.py:74: The name tf.get_default_graph is deprecated. Please use tf.compat.v1.get_default_graph instead.\n",
            "\n",
            "W0818 18:38:24.854688 139717958825856 deprecation_wrapper.py:119] From /usr/local/lib/python3.6/dist-packages/keras/backend/tensorflow_backend.py:517: The name tf.placeholder is deprecated. Please use tf.compat.v1.placeholder instead.\n",
            "\n",
            "W0818 18:38:24.867279 139717958825856 deprecation_wrapper.py:119] From /usr/local/lib/python3.6/dist-packages/keras/backend/tensorflow_backend.py:4138: The name tf.random_uniform is deprecated. Please use tf.random.uniform instead.\n",
            "\n",
            "W0818 18:38:24.910845 139717958825856 deprecation_wrapper.py:119] From /usr/local/lib/python3.6/dist-packages/keras/backend/tensorflow_backend.py:3976: The name tf.nn.max_pool is deprecated. Please use tf.nn.max_pool2d instead.\n",
            "\n",
            "W0818 18:38:24.918201 139717958825856 deprecation_wrapper.py:119] From /usr/local/lib/python3.6/dist-packages/keras/backend/tensorflow_backend.py:133: The name tf.placeholder_with_default is deprecated. Please use tf.compat.v1.placeholder_with_default instead.\n",
            "\n",
            "W0818 18:38:24.931133 139717958825856 deprecation.py:506] From /usr/local/lib/python3.6/dist-packages/keras/backend/tensorflow_backend.py:3445: calling dropout (from tensorflow.python.ops.nn_ops) with keep_prob is deprecated and will be removed in a future version.\n",
            "Instructions for updating:\n",
            "Please use `rate` instead of `keep_prob`. Rate should be set to `rate = 1 - keep_prob`.\n",
            "W0818 18:38:25.332623 139717958825856 deprecation_wrapper.py:119] From /usr/local/lib/python3.6/dist-packages/keras/optimizers.py:790: The name tf.train.Optimizer is deprecated. Please use tf.compat.v1.train.Optimizer instead.\n",
            "\n",
            "W0818 18:38:25.342178 139717958825856 deprecation_wrapper.py:119] From /usr/local/lib/python3.6/dist-packages/keras/backend/tensorflow_backend.py:3295: The name tf.log is deprecated. Please use tf.math.log instead.\n",
            "\n"
          ],
          "name": "stderr"
        },
        {
          "output_type": "stream",
          "text": [
            "_________________________________________________________________\n",
            "Layer (type)                 Output Shape              Param #   \n",
            "=================================================================\n",
            "conv2d_1 (Conv2D)            (None, 28, 28, 64)        1088      \n",
            "_________________________________________________________________\n",
            "conv2d_2 (Conv2D)            (None, 28, 28, 64)        65600     \n",
            "_________________________________________________________________\n",
            "max_pooling2d_1 (MaxPooling2 (None, 14, 14, 64)        0         \n",
            "_________________________________________________________________\n",
            "dropout_1 (Dropout)          (None, 14, 14, 64)        0         \n",
            "_________________________________________________________________\n",
            "conv2d_3 (Conv2D)            (None, 14, 14, 64)        36928     \n",
            "_________________________________________________________________\n",
            "conv2d_4 (Conv2D)            (None, 14, 14, 64)        36928     \n",
            "_________________________________________________________________\n",
            "max_pooling2d_2 (MaxPooling2 (None, 7, 7, 64)          0         \n",
            "_________________________________________________________________\n",
            "dropout_2 (Dropout)          (None, 7, 7, 64)          0         \n",
            "_________________________________________________________________\n",
            "flatten_1 (Flatten)          (None, 3136)              0         \n",
            "_________________________________________________________________\n",
            "batch_normalization_1 (Batch (None, 3136)              12544     \n",
            "_________________________________________________________________\n",
            "dense_1 (Dense)              (None, 512)               1606144   \n",
            "_________________________________________________________________\n",
            "dropout_3 (Dropout)          (None, 512)               0         \n",
            "_________________________________________________________________\n",
            "dense_2 (Dense)              (None, 64)                32832     \n",
            "_________________________________________________________________\n",
            "batch_normalization_2 (Batch (None, 64)                256       \n",
            "_________________________________________________________________\n",
            "dropout_4 (Dropout)          (None, 64)                0         \n",
            "_________________________________________________________________\n",
            "dense_3 (Dense)              (None, 10)                650       \n",
            "=================================================================\n",
            "Total params: 1,792,970\n",
            "Trainable params: 1,786,570\n",
            "Non-trainable params: 6,400\n",
            "_________________________________________________________________\n"
          ],
          "name": "stdout"
        }
      ]
    },
    {
      "cell_type": "markdown",
      "metadata": {
        "id": "xX0tZxZpchna",
        "colab_type": "text"
      },
      "source": [
        "### Arsitektur CNN_2 \n",
        "\n",
        "Arsitektur CNN_2 menggunakan arsitektur CNN_1 pada lapisan konvolusinya. Namun bagian lapisan *fully conected neural network*-nya hanya menggunakan 1 lapisan yang terdiri dari 64 *neuron*"
      ]
    },
    {
      "cell_type": "code",
      "metadata": {
        "id": "P9klGaLH-4HT",
        "colab_type": "code",
        "outputId": "36c16440-9014-4ddb-e1c9-3fa4e7305d0f",
        "colab": {
          "base_uri": "https://localhost:8080/",
          "height": 664
        }
      },
      "source": [
        "def cnn2():\n",
        "  cnn = Sequential()\n",
        "  \n",
        "  cnn.add(InputLayer(input_shape=(img_height, img_width, img_depth)))\n",
        "  \n",
        "  cnn.add(Convolution2D(64, (4, 4), padding='same', activation='relu'))\n",
        "  \n",
        "  cnn.add(Convolution2D(64, (4, 4), padding='same', activation='relu'))\n",
        "  cnn.add(MaxPooling2D(pool_size=(2, 2)))\n",
        "  cnn.add(Dropout(0.25))\n",
        "  \n",
        "  cnn.add(Convolution2D(64, (3, 3), padding='same', activation='relu'))\n",
        "  \n",
        "  cnn.add(Convolution2D(64, (3, 3), padding='same', activation='relu'))\n",
        "  cnn.add(MaxPooling2D(pool_size=(2, 2)))\n",
        "  cnn.add(Dropout(0.4))\n",
        "  \n",
        "  cnn.add(Flatten())\n",
        "  cnn.add(BatchNormalization())\n",
        "\n",
        "  cnn.add(Dense(64, activation='relu'))\n",
        "  cnn.add(BatchNormalization())\n",
        "  cnn.add(Dropout(0.2))\n",
        "  \n",
        "  cnn.add(Dense(10, activation='softmax'))\n",
        "  cnn.compile(loss='categorical_crossentropy',\n",
        "              optimizer= Adam(),\n",
        "              metrics=['accuracy'])\n",
        "\n",
        "  return cnn\n",
        "cnn2().summary()"
      ],
      "execution_count": 16,
      "outputs": [
        {
          "output_type": "stream",
          "text": [
            "_________________________________________________________________\n",
            "Layer (type)                 Output Shape              Param #   \n",
            "=================================================================\n",
            "conv2d_5 (Conv2D)            (None, 28, 28, 64)        1088      \n",
            "_________________________________________________________________\n",
            "conv2d_6 (Conv2D)            (None, 28, 28, 64)        65600     \n",
            "_________________________________________________________________\n",
            "max_pooling2d_3 (MaxPooling2 (None, 14, 14, 64)        0         \n",
            "_________________________________________________________________\n",
            "dropout_5 (Dropout)          (None, 14, 14, 64)        0         \n",
            "_________________________________________________________________\n",
            "conv2d_7 (Conv2D)            (None, 14, 14, 64)        36928     \n",
            "_________________________________________________________________\n",
            "conv2d_8 (Conv2D)            (None, 14, 14, 64)        36928     \n",
            "_________________________________________________________________\n",
            "max_pooling2d_4 (MaxPooling2 (None, 7, 7, 64)          0         \n",
            "_________________________________________________________________\n",
            "dropout_6 (Dropout)          (None, 7, 7, 64)          0         \n",
            "_________________________________________________________________\n",
            "flatten_2 (Flatten)          (None, 3136)              0         \n",
            "_________________________________________________________________\n",
            "batch_normalization_3 (Batch (None, 3136)              12544     \n",
            "_________________________________________________________________\n",
            "dense_4 (Dense)              (None, 64)                200768    \n",
            "_________________________________________________________________\n",
            "batch_normalization_4 (Batch (None, 64)                256       \n",
            "_________________________________________________________________\n",
            "dropout_7 (Dropout)          (None, 64)                0         \n",
            "_________________________________________________________________\n",
            "dense_5 (Dense)              (None, 10)                650       \n",
            "=================================================================\n",
            "Total params: 354,762\n",
            "Trainable params: 348,362\n",
            "Non-trainable params: 6,400\n",
            "_________________________________________________________________\n"
          ],
          "name": "stdout"
        }
      ]
    },
    {
      "cell_type": "markdown",
      "metadata": {
        "id": "KGxrraL9dD0V",
        "colab_type": "text"
      },
      "source": [
        "### Arsitektur CNN_3 \n",
        "\n",
        "Arsitektur CNN_3 menggunakan arsitektur CNN_1 pada lapisan konvolusinya. Namun bagian lapisan *fully conected neural network*-nya menggunakan 2 lapisan yang terdiri dari 64 *neuron* dan 32 *neuron\n",
        "\n",
        "\n",
        "*"
      ]
    },
    {
      "cell_type": "code",
      "metadata": {
        "id": "_lJ6a5i9JgEg",
        "colab_type": "code",
        "outputId": "6bdccbfa-7ecc-4de0-f54c-6b0c56d6fe9b",
        "colab": {
          "base_uri": "https://localhost:8080/",
          "height": 738
        }
      },
      "source": [
        "def cnn3():\n",
        "  cnn = Sequential()\n",
        "  \n",
        "  cnn.add(InputLayer(input_shape=(img_height, img_width, img_depth)))\n",
        "  \n",
        "  cnn.add(Convolution2D(64, (4, 4), padding='same', activation='relu'))\n",
        "  \n",
        "  cnn.add(Convolution2D(64, (4, 4), padding='same', activation='relu'))\n",
        "  cnn.add(MaxPooling2D(pool_size=(2, 2)))\n",
        "  cnn.add(Dropout(0.25))\n",
        "  \n",
        "  cnn.add(Convolution2D(64, (3, 3), padding='same', activation='relu'))\n",
        "  \n",
        "  cnn.add(Convolution2D(64, (3, 3), padding='same', activation='relu'))\n",
        "  cnn.add(MaxPooling2D(pool_size=(2, 2)))\n",
        "  cnn.add(Dropout(0.4))\n",
        "  \n",
        "  cnn.add(Flatten())\n",
        "  cnn.add(BatchNormalization())\n",
        "  \n",
        "  cnn.add(Dense(64, activation='relu'))\n",
        "  cnn.add(Dropout(0.2))\n",
        "  \n",
        "  cnn.add(Dense(32, activation='relu'))\n",
        "  cnn.add(BatchNormalization())\n",
        "  cnn.add(Dropout(0.2))\n",
        "  \n",
        "  cnn.add(Dense(10, activation='softmax'))\n",
        "  cnn.compile(loss='categorical_crossentropy',\n",
        "              optimizer= Adam(),\n",
        "              metrics=['accuracy'])\n",
        "\n",
        "  return cnn\n",
        "cnn3().summary()"
      ],
      "execution_count": 17,
      "outputs": [
        {
          "output_type": "stream",
          "text": [
            "_________________________________________________________________\n",
            "Layer (type)                 Output Shape              Param #   \n",
            "=================================================================\n",
            "conv2d_9 (Conv2D)            (None, 28, 28, 64)        1088      \n",
            "_________________________________________________________________\n",
            "conv2d_10 (Conv2D)           (None, 28, 28, 64)        65600     \n",
            "_________________________________________________________________\n",
            "max_pooling2d_5 (MaxPooling2 (None, 14, 14, 64)        0         \n",
            "_________________________________________________________________\n",
            "dropout_8 (Dropout)          (None, 14, 14, 64)        0         \n",
            "_________________________________________________________________\n",
            "conv2d_11 (Conv2D)           (None, 14, 14, 64)        36928     \n",
            "_________________________________________________________________\n",
            "conv2d_12 (Conv2D)           (None, 14, 14, 64)        36928     \n",
            "_________________________________________________________________\n",
            "max_pooling2d_6 (MaxPooling2 (None, 7, 7, 64)          0         \n",
            "_________________________________________________________________\n",
            "dropout_9 (Dropout)          (None, 7, 7, 64)          0         \n",
            "_________________________________________________________________\n",
            "flatten_3 (Flatten)          (None, 3136)              0         \n",
            "_________________________________________________________________\n",
            "batch_normalization_5 (Batch (None, 3136)              12544     \n",
            "_________________________________________________________________\n",
            "dense_6 (Dense)              (None, 64)                200768    \n",
            "_________________________________________________________________\n",
            "dropout_10 (Dropout)         (None, 64)                0         \n",
            "_________________________________________________________________\n",
            "dense_7 (Dense)              (None, 32)                2080      \n",
            "_________________________________________________________________\n",
            "batch_normalization_6 (Batch (None, 32)                128       \n",
            "_________________________________________________________________\n",
            "dropout_11 (Dropout)         (None, 32)                0         \n",
            "_________________________________________________________________\n",
            "dense_8 (Dense)              (None, 10)                330       \n",
            "=================================================================\n",
            "Total params: 356,394\n",
            "Trainable params: 350,058\n",
            "Non-trainable params: 6,336\n",
            "_________________________________________________________________\n"
          ],
          "name": "stdout"
        }
      ]
    },
    {
      "cell_type": "markdown",
      "metadata": {
        "id": "ow779UwtdQ-d",
        "colab_type": "text"
      },
      "source": [
        "### Arsitektur CNN_4 \n",
        "\n",
        "Arsitektur CNN_4 menggunakan arsitektur CNN_1 pada lapisan konvolusinya. Namun bagian lapisan *fully conected neural network*-nya hanya menggunakan 1 lapisan yang terdiri dari 32 *neuron*"
      ]
    },
    {
      "cell_type": "code",
      "metadata": {
        "id": "m1h611STPhgC",
        "colab_type": "code",
        "outputId": "6a66e825-d21e-427d-8908-7e9900126a4f",
        "colab": {
          "base_uri": "https://localhost:8080/",
          "height": 664
        }
      },
      "source": [
        "def cnn4():\n",
        "  cnn = Sequential()\n",
        "  \n",
        "  cnn.add(InputLayer(input_shape=(img_height, img_width, img_depth)))\n",
        "  \n",
        "  cnn.add(Convolution2D(64, (4, 4), padding='same', activation='relu'))\n",
        "  \n",
        "  cnn.add(Convolution2D(64, (4, 4), padding='same', activation='relu'))\n",
        "  cnn.add(MaxPooling2D(pool_size=(2, 2)))\n",
        "  cnn.add(Dropout(0.25))\n",
        "  \n",
        "  cnn.add(Convolution2D(64, (3, 3), padding='same', activation='relu'))\n",
        "  \n",
        "  cnn.add(Convolution2D(64, (3, 3), padding='same', activation='relu'))\n",
        "  cnn.add(MaxPooling2D(pool_size=(2, 2)))\n",
        "  cnn.add(Dropout(0.4))\n",
        "  \n",
        "  cnn.add(Flatten())\n",
        "  cnn.add(BatchNormalization())\n",
        "\n",
        "  cnn.add(Dense(32, activation='relu'))\n",
        "  cnn.add(BatchNormalization())\n",
        "  cnn.add(Dropout(0.2))\n",
        "  \n",
        "  cnn.add(Dense(10, activation='softmax'))\n",
        "  cnn.compile(loss='categorical_crossentropy',\n",
        "              optimizer= Adam(),\n",
        "              metrics=['accuracy'])\n",
        "\n",
        "  return cnn\n",
        "cnn4().summary()"
      ],
      "execution_count": 18,
      "outputs": [
        {
          "output_type": "stream",
          "text": [
            "_________________________________________________________________\n",
            "Layer (type)                 Output Shape              Param #   \n",
            "=================================================================\n",
            "conv2d_13 (Conv2D)           (None, 28, 28, 64)        1088      \n",
            "_________________________________________________________________\n",
            "conv2d_14 (Conv2D)           (None, 28, 28, 64)        65600     \n",
            "_________________________________________________________________\n",
            "max_pooling2d_7 (MaxPooling2 (None, 14, 14, 64)        0         \n",
            "_________________________________________________________________\n",
            "dropout_12 (Dropout)         (None, 14, 14, 64)        0         \n",
            "_________________________________________________________________\n",
            "conv2d_15 (Conv2D)           (None, 14, 14, 64)        36928     \n",
            "_________________________________________________________________\n",
            "conv2d_16 (Conv2D)           (None, 14, 14, 64)        36928     \n",
            "_________________________________________________________________\n",
            "max_pooling2d_8 (MaxPooling2 (None, 7, 7, 64)          0         \n",
            "_________________________________________________________________\n",
            "dropout_13 (Dropout)         (None, 7, 7, 64)          0         \n",
            "_________________________________________________________________\n",
            "flatten_4 (Flatten)          (None, 3136)              0         \n",
            "_________________________________________________________________\n",
            "batch_normalization_7 (Batch (None, 3136)              12544     \n",
            "_________________________________________________________________\n",
            "dense_9 (Dense)              (None, 32)                100384    \n",
            "_________________________________________________________________\n",
            "batch_normalization_8 (Batch (None, 32)                128       \n",
            "_________________________________________________________________\n",
            "dropout_14 (Dropout)         (None, 32)                0         \n",
            "_________________________________________________________________\n",
            "dense_10 (Dense)             (None, 10)                330       \n",
            "=================================================================\n",
            "Total params: 253,930\n",
            "Trainable params: 247,594\n",
            "Non-trainable params: 6,336\n",
            "_________________________________________________________________\n"
          ],
          "name": "stdout"
        }
      ]
    },
    {
      "cell_type": "markdown",
      "metadata": {
        "id": "I56QO_drk4Qo",
        "colab_type": "text"
      },
      "source": [
        "### Memecah Data Menjadi Data Latih dan Validasi\n",
        "\n",
        "Dibagian ini, data latih yang memiliki 60000 observasi akan dipecah secara acak menjadi data latih sebanyak 80% dan data validasi sebanyak 20% menggunakan *module* train_test_split. Menghasilkan 48000 data digunakan sebagai data latih dan 12000 data sebagai data validasi."
      ]
    },
    {
      "cell_type": "code",
      "metadata": {
        "id": "rIOl64bS_Hq1",
        "colab_type": "code",
        "colab": {}
      },
      "source": [
        "X_train_baru1, X_val, y_train_baru1, y_val = train_test_split(\n",
        "    X_train_baru, y_train_baru, test_size=0.2, random_state=50\n",
        ")"
      ],
      "execution_count": 0,
      "outputs": []
    },
    {
      "cell_type": "code",
      "metadata": {
        "id": "BJalajXHAAve",
        "colab_type": "code",
        "outputId": "7c601f2f-a542-4e25-c715-3062d7f00d2b",
        "colab": {
          "base_uri": "https://localhost:8080/",
          "height": 54
        }
      },
      "source": [
        "print(X_train_baru1.shape, y_train_baru1.shape)\n",
        "print(X_val.shape, y_val.shape)\n"
      ],
      "execution_count": 20,
      "outputs": [
        {
          "output_type": "stream",
          "text": [
            "(48000, 28, 28, 1) (48000, 10)\n",
            "(12000, 28, 28, 1) (12000, 10)\n"
          ],
          "name": "stdout"
        }
      ]
    },
    {
      "cell_type": "markdown",
      "metadata": {
        "id": "jqncSbo2lVr0",
        "colab_type": "text"
      },
      "source": [
        "### Melatih Data\n",
        "\n",
        "Bagian ini memulai melatih model dari arsitektur CNN_1 sampai CNN_4 menggunakan ukuran batch 250 dan *epoch* 100 kali. Model ini kemudian dihitung *loss* dan akurasinya di data latih dan data validasi."
      ]
    },
    {
      "cell_type": "code",
      "metadata": {
        "id": "4_CNKwU74xgB",
        "colab_type": "code",
        "colab": {}
      },
      "source": [
        "def melatih_model(nama_model):\n",
        "  return nama_model.fit(X_train_baru1, y_train_baru1, batch_size = 250, epochs = 100, verbose = 1, validation_data = (X_val, y_val))"
      ],
      "execution_count": 0,
      "outputs": []
    },
    {
      "cell_type": "code",
      "metadata": {
        "id": "PxGeQlAe5TDj",
        "colab_type": "code",
        "colab": {
          "base_uri": "https://localhost:8080/",
          "height": 1000
        },
        "outputId": "c381bc65-627d-48d3-de28-434d39d6f844"
      },
      "source": [
        "historia_a = melatih_model(cnn1())"
      ],
      "execution_count": 22,
      "outputs": [
        {
          "output_type": "stream",
          "text": [
            "W0818 18:39:32.024357 139717958825856 deprecation.py:323] From /usr/local/lib/python3.6/dist-packages/tensorflow/python/ops/math_grad.py:1250: add_dispatch_support.<locals>.wrapper (from tensorflow.python.ops.array_ops) is deprecated and will be removed in a future version.\n",
            "Instructions for updating:\n",
            "Use tf.where in 2.0, which has the same broadcast rule as np.where\n"
          ],
          "name": "stderr"
        },
        {
          "output_type": "stream",
          "text": [
            "Train on 48000 samples, validate on 12000 samples\n",
            "Epoch 1/100\n",
            "48000/48000 [==============================] - 17s 354us/step - loss: 0.6007 - acc: 0.7851 - val_loss: 0.3527 - val_acc: 0.8704\n",
            "Epoch 2/100\n",
            "48000/48000 [==============================] - 14s 287us/step - loss: 0.3587 - acc: 0.8697 - val_loss: 0.2904 - val_acc: 0.8942\n",
            "Epoch 3/100\n",
            "48000/48000 [==============================] - 14s 286us/step - loss: 0.2996 - acc: 0.8910 - val_loss: 0.2505 - val_acc: 0.9085\n",
            "Epoch 4/100\n",
            "48000/48000 [==============================] - 14s 287us/step - loss: 0.2678 - acc: 0.9027 - val_loss: 0.2293 - val_acc: 0.9157\n",
            "Epoch 5/100\n",
            "48000/48000 [==============================] - 14s 286us/step - loss: 0.2454 - acc: 0.9110 - val_loss: 0.2168 - val_acc: 0.9183\n",
            "Epoch 6/100\n",
            "48000/48000 [==============================] - 14s 287us/step - loss: 0.2257 - acc: 0.9174 - val_loss: 0.2202 - val_acc: 0.9168\n",
            "Epoch 7/100\n",
            "48000/48000 [==============================] - 14s 287us/step - loss: 0.2101 - acc: 0.9233 - val_loss: 0.1880 - val_acc: 0.9290\n",
            "Epoch 8/100\n",
            "48000/48000 [==============================] - 14s 286us/step - loss: 0.1967 - acc: 0.9281 - val_loss: 0.2111 - val_acc: 0.9219\n",
            "Epoch 9/100\n",
            "48000/48000 [==============================] - 14s 286us/step - loss: 0.1874 - acc: 0.9303 - val_loss: 0.1934 - val_acc: 0.9271\n",
            "Epoch 10/100\n",
            "48000/48000 [==============================] - 14s 287us/step - loss: 0.1773 - acc: 0.9347 - val_loss: 0.2136 - val_acc: 0.9178\n",
            "Epoch 11/100\n",
            "48000/48000 [==============================] - 14s 287us/step - loss: 0.1641 - acc: 0.9405 - val_loss: 0.1915 - val_acc: 0.9279\n",
            "Epoch 12/100\n",
            "48000/48000 [==============================] - 14s 285us/step - loss: 0.1589 - acc: 0.9421 - val_loss: 0.2051 - val_acc: 0.9262\n",
            "Epoch 13/100\n",
            "48000/48000 [==============================] - 14s 286us/step - loss: 0.1491 - acc: 0.9452 - val_loss: 0.1816 - val_acc: 0.9333\n",
            "Epoch 14/100\n",
            "48000/48000 [==============================] - 14s 287us/step - loss: 0.1422 - acc: 0.9469 - val_loss: 0.1839 - val_acc: 0.9332\n",
            "Epoch 15/100\n",
            "48000/48000 [==============================] - 14s 288us/step - loss: 0.1385 - acc: 0.9484 - val_loss: 0.1981 - val_acc: 0.9304\n",
            "Epoch 16/100\n",
            "48000/48000 [==============================] - 14s 286us/step - loss: 0.1283 - acc: 0.9520 - val_loss: 0.1823 - val_acc: 0.9363\n",
            "Epoch 17/100\n",
            "48000/48000 [==============================] - 14s 286us/step - loss: 0.1239 - acc: 0.9545 - val_loss: 0.1744 - val_acc: 0.9367\n",
            "Epoch 18/100\n",
            "48000/48000 [==============================] - 14s 286us/step - loss: 0.1147 - acc: 0.9579 - val_loss: 0.1852 - val_acc: 0.9361\n",
            "Epoch 19/100\n",
            "48000/48000 [==============================] - 14s 287us/step - loss: 0.1104 - acc: 0.9598 - val_loss: 0.1797 - val_acc: 0.9367\n",
            "Epoch 20/100\n",
            "48000/48000 [==============================] - 14s 287us/step - loss: 0.1044 - acc: 0.9612 - val_loss: 0.1783 - val_acc: 0.9412\n",
            "Epoch 21/100\n",
            "48000/48000 [==============================] - 14s 286us/step - loss: 0.0978 - acc: 0.9636 - val_loss: 0.1759 - val_acc: 0.9393\n",
            "Epoch 22/100\n",
            "48000/48000 [==============================] - 14s 287us/step - loss: 0.0952 - acc: 0.9650 - val_loss: 0.1873 - val_acc: 0.9401\n",
            "Epoch 23/100\n",
            "48000/48000 [==============================] - 14s 286us/step - loss: 0.0934 - acc: 0.9651 - val_loss: 0.1857 - val_acc: 0.9392\n",
            "Epoch 24/100\n",
            "48000/48000 [==============================] - 14s 288us/step - loss: 0.0860 - acc: 0.9675 - val_loss: 0.1947 - val_acc: 0.9391\n",
            "Epoch 25/100\n",
            "48000/48000 [==============================] - 14s 287us/step - loss: 0.0821 - acc: 0.9696 - val_loss: 0.1914 - val_acc: 0.9395\n",
            "Epoch 26/100\n",
            "48000/48000 [==============================] - 14s 286us/step - loss: 0.0816 - acc: 0.9698 - val_loss: 0.2191 - val_acc: 0.9317\n",
            "Epoch 27/100\n",
            "48000/48000 [==============================] - 14s 288us/step - loss: 0.0788 - acc: 0.9710 - val_loss: 0.1973 - val_acc: 0.9410\n",
            "Epoch 28/100\n",
            "48000/48000 [==============================] - 14s 286us/step - loss: 0.0730 - acc: 0.9726 - val_loss: 0.2167 - val_acc: 0.9374\n",
            "Epoch 29/100\n",
            "48000/48000 [==============================] - 14s 287us/step - loss: 0.0677 - acc: 0.9754 - val_loss: 0.1914 - val_acc: 0.9421\n",
            "Epoch 30/100\n",
            "48000/48000 [==============================] - 14s 286us/step - loss: 0.0693 - acc: 0.9751 - val_loss: 0.1997 - val_acc: 0.9412\n",
            "Epoch 31/100\n",
            "48000/48000 [==============================] - 14s 286us/step - loss: 0.0643 - acc: 0.9770 - val_loss: 0.2208 - val_acc: 0.9354\n",
            "Epoch 32/100\n",
            "48000/48000 [==============================] - 14s 286us/step - loss: 0.0640 - acc: 0.9766 - val_loss: 0.2050 - val_acc: 0.9383\n",
            "Epoch 33/100\n",
            "48000/48000 [==============================] - 14s 285us/step - loss: 0.0599 - acc: 0.9779 - val_loss: 0.2036 - val_acc: 0.9412\n",
            "Epoch 34/100\n",
            "48000/48000 [==============================] - 14s 285us/step - loss: 0.0587 - acc: 0.9785 - val_loss: 0.2052 - val_acc: 0.9407\n",
            "Epoch 35/100\n",
            "48000/48000 [==============================] - 14s 288us/step - loss: 0.0585 - acc: 0.9780 - val_loss: 0.2397 - val_acc: 0.9372\n",
            "Epoch 36/100\n",
            "48000/48000 [==============================] - 14s 287us/step - loss: 0.0528 - acc: 0.9811 - val_loss: 0.2139 - val_acc: 0.9375\n",
            "Epoch 37/100\n",
            "48000/48000 [==============================] - 14s 288us/step - loss: 0.0546 - acc: 0.9800 - val_loss: 0.2294 - val_acc: 0.9396\n",
            "Epoch 38/100\n",
            "48000/48000 [==============================] - 14s 287us/step - loss: 0.0534 - acc: 0.9811 - val_loss: 0.2058 - val_acc: 0.9415\n",
            "Epoch 39/100\n",
            "48000/48000 [==============================] - 14s 285us/step - loss: 0.0507 - acc: 0.9813 - val_loss: 0.2112 - val_acc: 0.9423\n",
            "Epoch 40/100\n",
            "48000/48000 [==============================] - 14s 286us/step - loss: 0.0530 - acc: 0.9810 - val_loss: 0.2297 - val_acc: 0.9388\n",
            "Epoch 41/100\n",
            "48000/48000 [==============================] - 14s 286us/step - loss: 0.0481 - acc: 0.9826 - val_loss: 0.2168 - val_acc: 0.9397\n",
            "Epoch 42/100\n",
            "48000/48000 [==============================] - 14s 286us/step - loss: 0.0407 - acc: 0.9853 - val_loss: 0.2208 - val_acc: 0.9411\n",
            "Epoch 43/100\n",
            "48000/48000 [==============================] - 14s 286us/step - loss: 0.0425 - acc: 0.9845 - val_loss: 0.2344 - val_acc: 0.9386\n",
            "Epoch 44/100\n",
            "48000/48000 [==============================] - 14s 286us/step - loss: 0.0468 - acc: 0.9836 - val_loss: 0.2097 - val_acc: 0.9412\n",
            "Epoch 45/100\n",
            "48000/48000 [==============================] - 14s 286us/step - loss: 0.0412 - acc: 0.9847 - val_loss: 0.2167 - val_acc: 0.9406\n",
            "Epoch 46/100\n",
            "48000/48000 [==============================] - 14s 286us/step - loss: 0.0403 - acc: 0.9855 - val_loss: 0.2386 - val_acc: 0.9396\n",
            "Epoch 47/100\n",
            "48000/48000 [==============================] - 14s 285us/step - loss: 0.0400 - acc: 0.9860 - val_loss: 0.2436 - val_acc: 0.9389\n",
            "Epoch 48/100\n",
            "48000/48000 [==============================] - 14s 287us/step - loss: 0.0381 - acc: 0.9866 - val_loss: 0.2265 - val_acc: 0.9430\n",
            "Epoch 49/100\n",
            "48000/48000 [==============================] - 14s 286us/step - loss: 0.0383 - acc: 0.9865 - val_loss: 0.2335 - val_acc: 0.9414\n",
            "Epoch 50/100\n",
            "48000/48000 [==============================] - 14s 286us/step - loss: 0.0403 - acc: 0.9851 - val_loss: 0.2163 - val_acc: 0.9425\n",
            "Epoch 51/100\n",
            "48000/48000 [==============================] - 14s 285us/step - loss: 0.0372 - acc: 0.9862 - val_loss: 0.2333 - val_acc: 0.9411\n",
            "Epoch 52/100\n",
            "48000/48000 [==============================] - 14s 285us/step - loss: 0.0328 - acc: 0.9887 - val_loss: 0.2242 - val_acc: 0.9402\n",
            "Epoch 53/100\n",
            "48000/48000 [==============================] - 14s 286us/step - loss: 0.0351 - acc: 0.9873 - val_loss: 0.2350 - val_acc: 0.9424\n",
            "Epoch 54/100\n",
            "48000/48000 [==============================] - 14s 288us/step - loss: 0.0355 - acc: 0.9871 - val_loss: 0.2466 - val_acc: 0.9427\n",
            "Epoch 55/100\n",
            "48000/48000 [==============================] - 14s 285us/step - loss: 0.0318 - acc: 0.9890 - val_loss: 0.2406 - val_acc: 0.9418\n",
            "Epoch 56/100\n",
            "48000/48000 [==============================] - 14s 286us/step - loss: 0.0345 - acc: 0.9875 - val_loss: 0.2333 - val_acc: 0.9416\n",
            "Epoch 57/100\n",
            "48000/48000 [==============================] - 14s 286us/step - loss: 0.0336 - acc: 0.9887 - val_loss: 0.2382 - val_acc: 0.9421\n",
            "Epoch 58/100\n",
            "48000/48000 [==============================] - 14s 287us/step - loss: 0.0349 - acc: 0.9878 - val_loss: 0.2339 - val_acc: 0.9408\n",
            "Epoch 59/100\n",
            "48000/48000 [==============================] - 14s 284us/step - loss: 0.0324 - acc: 0.9880 - val_loss: 0.2308 - val_acc: 0.9409\n",
            "Epoch 60/100\n",
            "48000/48000 [==============================] - 14s 289us/step - loss: 0.0345 - acc: 0.9875 - val_loss: 0.2293 - val_acc: 0.9379\n",
            "Epoch 61/100\n",
            "48000/48000 [==============================] - 14s 285us/step - loss: 0.0290 - acc: 0.9901 - val_loss: 0.2384 - val_acc: 0.9412\n",
            "Epoch 62/100\n",
            "48000/48000 [==============================] - 14s 286us/step - loss: 0.0304 - acc: 0.9890 - val_loss: 0.2336 - val_acc: 0.9413\n",
            "Epoch 63/100\n",
            "48000/48000 [==============================] - 14s 286us/step - loss: 0.0274 - acc: 0.9902 - val_loss: 0.2720 - val_acc: 0.9382\n",
            "Epoch 64/100\n",
            "48000/48000 [==============================] - 14s 285us/step - loss: 0.0275 - acc: 0.9904 - val_loss: 0.2490 - val_acc: 0.9408\n",
            "Epoch 65/100\n",
            "48000/48000 [==============================] - 14s 288us/step - loss: 0.0275 - acc: 0.9900 - val_loss: 0.2563 - val_acc: 0.9408\n",
            "Epoch 66/100\n",
            "48000/48000 [==============================] - 14s 286us/step - loss: 0.0292 - acc: 0.9902 - val_loss: 0.2331 - val_acc: 0.9411\n",
            "Epoch 67/100\n",
            "48000/48000 [==============================] - 14s 287us/step - loss: 0.0265 - acc: 0.9904 - val_loss: 0.2407 - val_acc: 0.9429\n",
            "Epoch 68/100\n",
            "48000/48000 [==============================] - 14s 287us/step - loss: 0.0300 - acc: 0.9893 - val_loss: 0.2578 - val_acc: 0.9415\n",
            "Epoch 69/100\n",
            "48000/48000 [==============================] - 14s 285us/step - loss: 0.0277 - acc: 0.9903 - val_loss: 0.2465 - val_acc: 0.9420\n",
            "Epoch 70/100\n",
            "48000/48000 [==============================] - 14s 286us/step - loss: 0.0263 - acc: 0.9909 - val_loss: 0.2711 - val_acc: 0.9397\n",
            "Epoch 71/100\n",
            "48000/48000 [==============================] - 14s 286us/step - loss: 0.0269 - acc: 0.9907 - val_loss: 0.2523 - val_acc: 0.9427\n",
            "Epoch 72/100\n",
            "48000/48000 [==============================] - 14s 285us/step - loss: 0.0260 - acc: 0.9909 - val_loss: 0.2400 - val_acc: 0.9417\n",
            "Epoch 73/100\n",
            "48000/48000 [==============================] - 14s 288us/step - loss: 0.0258 - acc: 0.9909 - val_loss: 0.2534 - val_acc: 0.9417\n",
            "Epoch 74/100\n",
            "48000/48000 [==============================] - 14s 287us/step - loss: 0.0254 - acc: 0.9910 - val_loss: 0.2532 - val_acc: 0.9411\n",
            "Epoch 75/100\n",
            "48000/48000 [==============================] - 14s 286us/step - loss: 0.0247 - acc: 0.9916 - val_loss: 0.2426 - val_acc: 0.9437\n",
            "Epoch 76/100\n",
            "48000/48000 [==============================] - 14s 286us/step - loss: 0.0263 - acc: 0.9909 - val_loss: 0.2573 - val_acc: 0.9404\n",
            "Epoch 77/100\n",
            "48000/48000 [==============================] - 14s 285us/step - loss: 0.0256 - acc: 0.9911 - val_loss: 0.2461 - val_acc: 0.9402\n",
            "Epoch 78/100\n",
            "48000/48000 [==============================] - 14s 286us/step - loss: 0.0274 - acc: 0.9902 - val_loss: 0.2605 - val_acc: 0.9402\n",
            "Epoch 79/100\n",
            "48000/48000 [==============================] - 14s 287us/step - loss: 0.0247 - acc: 0.9914 - val_loss: 0.2449 - val_acc: 0.9432\n",
            "Epoch 80/100\n",
            "48000/48000 [==============================] - 14s 287us/step - loss: 0.0242 - acc: 0.9912 - val_loss: 0.2394 - val_acc: 0.9416\n",
            "Epoch 81/100\n",
            "48000/48000 [==============================] - 14s 288us/step - loss: 0.0230 - acc: 0.9921 - val_loss: 0.2509 - val_acc: 0.9424\n",
            "Epoch 82/100\n",
            "48000/48000 [==============================] - 14s 287us/step - loss: 0.0216 - acc: 0.9922 - val_loss: 0.2600 - val_acc: 0.9434\n",
            "Epoch 83/100\n",
            "48000/48000 [==============================] - 14s 287us/step - loss: 0.0249 - acc: 0.9915 - val_loss: 0.2493 - val_acc: 0.9412\n",
            "Epoch 84/100\n",
            "48000/48000 [==============================] - 14s 285us/step - loss: 0.0219 - acc: 0.9919 - val_loss: 0.2825 - val_acc: 0.9387\n",
            "Epoch 85/100\n",
            "48000/48000 [==============================] - 14s 286us/step - loss: 0.0220 - acc: 0.9925 - val_loss: 0.2478 - val_acc: 0.9421\n",
            "Epoch 86/100\n",
            "48000/48000 [==============================] - 14s 286us/step - loss: 0.0230 - acc: 0.9920 - val_loss: 0.2749 - val_acc: 0.9410\n",
            "Epoch 87/100\n",
            "48000/48000 [==============================] - 14s 287us/step - loss: 0.0210 - acc: 0.9925 - val_loss: 0.2566 - val_acc: 0.9425\n",
            "Epoch 88/100\n",
            "48000/48000 [==============================] - 14s 287us/step - loss: 0.0199 - acc: 0.9931 - val_loss: 0.2583 - val_acc: 0.9427\n",
            "Epoch 89/100\n",
            "48000/48000 [==============================] - 14s 287us/step - loss: 0.0212 - acc: 0.9930 - val_loss: 0.2615 - val_acc: 0.9414\n",
            "Epoch 90/100\n",
            "48000/48000 [==============================] - 14s 288us/step - loss: 0.0219 - acc: 0.9924 - val_loss: 0.2589 - val_acc: 0.9423\n",
            "Epoch 91/100\n",
            "48000/48000 [==============================] - 14s 286us/step - loss: 0.0200 - acc: 0.9934 - val_loss: 0.2498 - val_acc: 0.9418\n",
            "Epoch 92/100\n",
            "48000/48000 [==============================] - 14s 286us/step - loss: 0.0194 - acc: 0.9933 - val_loss: 0.2712 - val_acc: 0.9411\n",
            "Epoch 93/100\n",
            "48000/48000 [==============================] - 14s 287us/step - loss: 0.0196 - acc: 0.9931 - val_loss: 0.2706 - val_acc: 0.9384\n",
            "Epoch 94/100\n",
            "48000/48000 [==============================] - 14s 286us/step - loss: 0.0195 - acc: 0.9932 - val_loss: 0.2754 - val_acc: 0.9422\n",
            "Epoch 95/100\n",
            "48000/48000 [==============================] - 14s 286us/step - loss: 0.0212 - acc: 0.9925 - val_loss: 0.2439 - val_acc: 0.9406\n",
            "Epoch 96/100\n",
            "48000/48000 [==============================] - 14s 286us/step - loss: 0.0229 - acc: 0.9922 - val_loss: 0.2496 - val_acc: 0.9415\n",
            "Epoch 97/100\n",
            "48000/48000 [==============================] - 14s 285us/step - loss: 0.0207 - acc: 0.9929 - val_loss: 0.2627 - val_acc: 0.9426\n",
            "Epoch 98/100\n",
            "48000/48000 [==============================] - 14s 286us/step - loss: 0.0193 - acc: 0.9935 - val_loss: 0.2797 - val_acc: 0.9412\n",
            "Epoch 99/100\n",
            "48000/48000 [==============================] - 14s 286us/step - loss: 0.0179 - acc: 0.9940 - val_loss: 0.2552 - val_acc: 0.9420\n",
            "Epoch 100/100\n",
            "48000/48000 [==============================] - 14s 286us/step - loss: 0.0177 - acc: 0.9940 - val_loss: 0.2693 - val_acc: 0.9417\n"
          ],
          "name": "stdout"
        }
      ]
    },
    {
      "cell_type": "code",
      "metadata": {
        "id": "Hdppun8EMM4u",
        "colab_type": "code",
        "outputId": "a0049263-caf9-409a-825d-03e015f79abc",
        "colab": {
          "base_uri": "https://localhost:8080/",
          "height": 1000
        }
      },
      "source": [
        "historia_b = melatih_model(cnn2())"
      ],
      "execution_count": 25,
      "outputs": [
        {
          "output_type": "stream",
          "text": [
            "Train on 48000 samples, validate on 12000 samples\n",
            "Epoch 1/100\n",
            "48000/48000 [==============================] - 14s 295us/step - loss: 0.6248 - acc: 0.7774 - val_loss: 0.3722 - val_acc: 0.8581\n",
            "Epoch 2/100\n",
            "48000/48000 [==============================] - 13s 268us/step - loss: 0.3620 - acc: 0.8704 - val_loss: 0.2896 - val_acc: 0.8912\n",
            "Epoch 3/100\n",
            "48000/48000 [==============================] - 13s 270us/step - loss: 0.2996 - acc: 0.8912 - val_loss: 0.2540 - val_acc: 0.9036\n",
            "Epoch 4/100\n",
            "48000/48000 [==============================] - 13s 269us/step - loss: 0.2676 - acc: 0.9026 - val_loss: 0.2463 - val_acc: 0.9082\n",
            "Epoch 5/100\n",
            "48000/48000 [==============================] - 13s 268us/step - loss: 0.2445 - acc: 0.9122 - val_loss: 0.2328 - val_acc: 0.9095\n",
            "Epoch 6/100\n",
            "48000/48000 [==============================] - 13s 269us/step - loss: 0.2307 - acc: 0.9154 - val_loss: 0.2207 - val_acc: 0.9190\n",
            "Epoch 7/100\n",
            "48000/48000 [==============================] - 13s 269us/step - loss: 0.2170 - acc: 0.9200 - val_loss: 0.2066 - val_acc: 0.9217\n",
            "Epoch 8/100\n",
            "48000/48000 [==============================] - 13s 269us/step - loss: 0.2076 - acc: 0.9241 - val_loss: 0.2022 - val_acc: 0.9251\n",
            "Epoch 9/100\n",
            "48000/48000 [==============================] - 13s 269us/step - loss: 0.1985 - acc: 0.9262 - val_loss: 0.1887 - val_acc: 0.9286\n",
            "Epoch 10/100\n",
            "48000/48000 [==============================] - 13s 269us/step - loss: 0.1880 - acc: 0.9326 - val_loss: 0.1890 - val_acc: 0.9294\n",
            "Epoch 11/100\n",
            "48000/48000 [==============================] - 13s 269us/step - loss: 0.1831 - acc: 0.9320 - val_loss: 0.1840 - val_acc: 0.9318\n",
            "Epoch 12/100\n",
            "48000/48000 [==============================] - 13s 269us/step - loss: 0.1753 - acc: 0.9356 - val_loss: 0.1829 - val_acc: 0.9307\n",
            "Epoch 13/100\n",
            "48000/48000 [==============================] - 13s 270us/step - loss: 0.1707 - acc: 0.9374 - val_loss: 0.1888 - val_acc: 0.9312\n",
            "Epoch 14/100\n",
            "48000/48000 [==============================] - 13s 269us/step - loss: 0.1624 - acc: 0.9406 - val_loss: 0.1779 - val_acc: 0.9325\n",
            "Epoch 15/100\n",
            "48000/48000 [==============================] - 13s 269us/step - loss: 0.1569 - acc: 0.9426 - val_loss: 0.1780 - val_acc: 0.9332\n",
            "Epoch 16/100\n",
            "48000/48000 [==============================] - 13s 269us/step - loss: 0.1517 - acc: 0.9437 - val_loss: 0.1763 - val_acc: 0.9358\n",
            "Epoch 17/100\n",
            "48000/48000 [==============================] - 13s 269us/step - loss: 0.1460 - acc: 0.9469 - val_loss: 0.1730 - val_acc: 0.9363\n",
            "Epoch 18/100\n",
            "48000/48000 [==============================] - 13s 269us/step - loss: 0.1413 - acc: 0.9473 - val_loss: 0.1811 - val_acc: 0.9331\n",
            "Epoch 19/100\n",
            "48000/48000 [==============================] - 13s 269us/step - loss: 0.1402 - acc: 0.9492 - val_loss: 0.1933 - val_acc: 0.9296\n",
            "Epoch 20/100\n",
            "48000/48000 [==============================] - 13s 269us/step - loss: 0.1369 - acc: 0.9491 - val_loss: 0.1804 - val_acc: 0.9356\n",
            "Epoch 21/100\n",
            "48000/48000 [==============================] - 13s 268us/step - loss: 0.1297 - acc: 0.9531 - val_loss: 0.1741 - val_acc: 0.9371\n",
            "Epoch 22/100\n",
            "48000/48000 [==============================] - 13s 272us/step - loss: 0.1268 - acc: 0.9526 - val_loss: 0.1685 - val_acc: 0.9381\n",
            "Epoch 23/100\n",
            "48000/48000 [==============================] - 13s 270us/step - loss: 0.1253 - acc: 0.9538 - val_loss: 0.1826 - val_acc: 0.9347\n",
            "Epoch 24/100\n",
            "48000/48000 [==============================] - 13s 270us/step - loss: 0.1191 - acc: 0.9560 - val_loss: 0.1719 - val_acc: 0.9402\n",
            "Epoch 25/100\n",
            "48000/48000 [==============================] - 13s 270us/step - loss: 0.1151 - acc: 0.9576 - val_loss: 0.1839 - val_acc: 0.9368\n",
            "Epoch 26/100\n",
            "48000/48000 [==============================] - 13s 270us/step - loss: 0.1129 - acc: 0.9568 - val_loss: 0.1932 - val_acc: 0.9326\n",
            "Epoch 27/100\n",
            "48000/48000 [==============================] - 13s 268us/step - loss: 0.1137 - acc: 0.9579 - val_loss: 0.1920 - val_acc: 0.9361\n",
            "Epoch 28/100\n",
            "48000/48000 [==============================] - 13s 270us/step - loss: 0.1070 - acc: 0.9600 - val_loss: 0.1734 - val_acc: 0.9391\n",
            "Epoch 29/100\n",
            "48000/48000 [==============================] - 13s 268us/step - loss: 0.1055 - acc: 0.9609 - val_loss: 0.1929 - val_acc: 0.9363\n",
            "Epoch 30/100\n",
            "48000/48000 [==============================] - 13s 269us/step - loss: 0.1045 - acc: 0.9619 - val_loss: 0.1738 - val_acc: 0.9395\n",
            "Epoch 31/100\n",
            "48000/48000 [==============================] - 13s 268us/step - loss: 0.1000 - acc: 0.9627 - val_loss: 0.1835 - val_acc: 0.9372\n",
            "Epoch 32/100\n",
            "48000/48000 [==============================] - 13s 271us/step - loss: 0.0997 - acc: 0.9635 - val_loss: 0.1754 - val_acc: 0.9395\n",
            "Epoch 33/100\n",
            "48000/48000 [==============================] - 13s 270us/step - loss: 0.0958 - acc: 0.9643 - val_loss: 0.1875 - val_acc: 0.9362\n",
            "Epoch 34/100\n",
            "48000/48000 [==============================] - 13s 270us/step - loss: 0.0939 - acc: 0.9652 - val_loss: 0.1978 - val_acc: 0.9361\n",
            "Epoch 35/100\n",
            "48000/48000 [==============================] - 13s 271us/step - loss: 0.0946 - acc: 0.9646 - val_loss: 0.1792 - val_acc: 0.9397\n",
            "Epoch 36/100\n",
            "48000/48000 [==============================] - 13s 272us/step - loss: 0.0922 - acc: 0.9650 - val_loss: 0.1806 - val_acc: 0.9396\n",
            "Epoch 37/100\n",
            "48000/48000 [==============================] - 13s 271us/step - loss: 0.0903 - acc: 0.9663 - val_loss: 0.1988 - val_acc: 0.9372\n",
            "Epoch 38/100\n",
            "48000/48000 [==============================] - 13s 270us/step - loss: 0.0840 - acc: 0.9697 - val_loss: 0.1814 - val_acc: 0.9417\n",
            "Epoch 39/100\n",
            "48000/48000 [==============================] - 13s 274us/step - loss: 0.0856 - acc: 0.9681 - val_loss: 0.1952 - val_acc: 0.9374\n",
            "Epoch 40/100\n",
            "48000/48000 [==============================] - 13s 271us/step - loss: 0.0839 - acc: 0.9694 - val_loss: 0.1913 - val_acc: 0.9378\n",
            "Epoch 41/100\n",
            "48000/48000 [==============================] - 13s 271us/step - loss: 0.0865 - acc: 0.9673 - val_loss: 0.1856 - val_acc: 0.9382\n",
            "Epoch 42/100\n",
            "48000/48000 [==============================] - 13s 269us/step - loss: 0.0790 - acc: 0.9698 - val_loss: 0.1902 - val_acc: 0.9384\n",
            "Epoch 43/100\n",
            "48000/48000 [==============================] - 13s 270us/step - loss: 0.0784 - acc: 0.9700 - val_loss: 0.1890 - val_acc: 0.9380\n",
            "Epoch 44/100\n",
            "48000/48000 [==============================] - 13s 269us/step - loss: 0.0786 - acc: 0.9708 - val_loss: 0.1898 - val_acc: 0.9399\n",
            "Epoch 45/100\n",
            "48000/48000 [==============================] - 13s 268us/step - loss: 0.0799 - acc: 0.9699 - val_loss: 0.1936 - val_acc: 0.9391\n",
            "Epoch 46/100\n",
            "48000/48000 [==============================] - 13s 268us/step - loss: 0.0772 - acc: 0.9708 - val_loss: 0.1979 - val_acc: 0.9370\n",
            "Epoch 47/100\n",
            "48000/48000 [==============================] - 13s 269us/step - loss: 0.0757 - acc: 0.9721 - val_loss: 0.2131 - val_acc: 0.9377\n",
            "Epoch 48/100\n",
            "48000/48000 [==============================] - 13s 270us/step - loss: 0.0749 - acc: 0.9722 - val_loss: 0.1909 - val_acc: 0.9399\n",
            "Epoch 49/100\n",
            "48000/48000 [==============================] - 13s 270us/step - loss: 0.0712 - acc: 0.9728 - val_loss: 0.2088 - val_acc: 0.9381\n",
            "Epoch 50/100\n",
            "48000/48000 [==============================] - 13s 269us/step - loss: 0.0718 - acc: 0.9730 - val_loss: 0.2012 - val_acc: 0.9390\n",
            "Epoch 51/100\n",
            "48000/48000 [==============================] - 13s 270us/step - loss: 0.0702 - acc: 0.9740 - val_loss: 0.2077 - val_acc: 0.9372\n",
            "Epoch 52/100\n",
            "48000/48000 [==============================] - 13s 268us/step - loss: 0.0705 - acc: 0.9739 - val_loss: 0.1991 - val_acc: 0.9392\n",
            "Epoch 53/100\n",
            "48000/48000 [==============================] - 13s 268us/step - loss: 0.0696 - acc: 0.9737 - val_loss: 0.1942 - val_acc: 0.9405\n",
            "Epoch 54/100\n",
            "48000/48000 [==============================] - 13s 267us/step - loss: 0.0658 - acc: 0.9751 - val_loss: 0.2194 - val_acc: 0.9375\n",
            "Epoch 55/100\n",
            "48000/48000 [==============================] - 13s 268us/step - loss: 0.0707 - acc: 0.9743 - val_loss: 0.1935 - val_acc: 0.9393\n",
            "Epoch 56/100\n",
            "48000/48000 [==============================] - 13s 269us/step - loss: 0.0661 - acc: 0.9754 - val_loss: 0.2004 - val_acc: 0.9390\n",
            "Epoch 57/100\n",
            "48000/48000 [==============================] - 13s 270us/step - loss: 0.0671 - acc: 0.9753 - val_loss: 0.1952 - val_acc: 0.9390\n",
            "Epoch 58/100\n",
            "48000/48000 [==============================] - 13s 268us/step - loss: 0.0688 - acc: 0.9744 - val_loss: 0.1998 - val_acc: 0.9402\n",
            "Epoch 59/100\n",
            "48000/48000 [==============================] - 13s 269us/step - loss: 0.0654 - acc: 0.9750 - val_loss: 0.2025 - val_acc: 0.9402\n",
            "Epoch 60/100\n",
            "48000/48000 [==============================] - 13s 270us/step - loss: 0.0619 - acc: 0.9778 - val_loss: 0.2257 - val_acc: 0.9367\n",
            "Epoch 61/100\n",
            "48000/48000 [==============================] - 13s 268us/step - loss: 0.0612 - acc: 0.9779 - val_loss: 0.2011 - val_acc: 0.9400\n",
            "Epoch 62/100\n",
            "48000/48000 [==============================] - 13s 268us/step - loss: 0.0630 - acc: 0.9769 - val_loss: 0.2013 - val_acc: 0.9414\n",
            "Epoch 63/100\n",
            "48000/48000 [==============================] - 13s 269us/step - loss: 0.0610 - acc: 0.9775 - val_loss: 0.2128 - val_acc: 0.9387\n",
            "Epoch 64/100\n",
            "48000/48000 [==============================] - 13s 268us/step - loss: 0.0583 - acc: 0.9781 - val_loss: 0.2073 - val_acc: 0.9402\n",
            "Epoch 65/100\n",
            "48000/48000 [==============================] - 13s 268us/step - loss: 0.0630 - acc: 0.9763 - val_loss: 0.2090 - val_acc: 0.9392\n",
            "Epoch 66/100\n",
            "48000/48000 [==============================] - 13s 268us/step - loss: 0.0613 - acc: 0.9774 - val_loss: 0.2045 - val_acc: 0.9412\n",
            "Epoch 67/100\n",
            "48000/48000 [==============================] - 13s 270us/step - loss: 0.0563 - acc: 0.9792 - val_loss: 0.2147 - val_acc: 0.9385\n",
            "Epoch 68/100\n",
            "48000/48000 [==============================] - 13s 269us/step - loss: 0.0566 - acc: 0.9793 - val_loss: 0.2105 - val_acc: 0.9406\n",
            "Epoch 69/100\n",
            "48000/48000 [==============================] - 13s 268us/step - loss: 0.0579 - acc: 0.9788 - val_loss: 0.2068 - val_acc: 0.9399\n",
            "Epoch 70/100\n",
            "48000/48000 [==============================] - 13s 269us/step - loss: 0.0563 - acc: 0.9792 - val_loss: 0.2324 - val_acc: 0.9402\n",
            "Epoch 71/100\n",
            "48000/48000 [==============================] - 13s 267us/step - loss: 0.0547 - acc: 0.9791 - val_loss: 0.2139 - val_acc: 0.9388\n",
            "Epoch 72/100\n",
            "48000/48000 [==============================] - 13s 270us/step - loss: 0.0538 - acc: 0.9808 - val_loss: 0.2176 - val_acc: 0.9386\n",
            "Epoch 73/100\n",
            "48000/48000 [==============================] - 13s 269us/step - loss: 0.0579 - acc: 0.9785 - val_loss: 0.2164 - val_acc: 0.9386\n",
            "Epoch 74/100\n",
            "48000/48000 [==============================] - 13s 269us/step - loss: 0.0555 - acc: 0.9788 - val_loss: 0.2243 - val_acc: 0.9382\n",
            "Epoch 75/100\n",
            "48000/48000 [==============================] - 13s 269us/step - loss: 0.0563 - acc: 0.9793 - val_loss: 0.2127 - val_acc: 0.9418\n",
            "Epoch 76/100\n",
            "48000/48000 [==============================] - 13s 268us/step - loss: 0.0556 - acc: 0.9794 - val_loss: 0.2275 - val_acc: 0.9397\n",
            "Epoch 77/100\n",
            "48000/48000 [==============================] - 13s 270us/step - loss: 0.0534 - acc: 0.9807 - val_loss: 0.2105 - val_acc: 0.9392\n",
            "Epoch 78/100\n",
            "48000/48000 [==============================] - 13s 268us/step - loss: 0.0494 - acc: 0.9825 - val_loss: 0.2231 - val_acc: 0.9397\n",
            "Epoch 79/100\n",
            "48000/48000 [==============================] - 13s 270us/step - loss: 0.0541 - acc: 0.9801 - val_loss: 0.2183 - val_acc: 0.9400\n",
            "Epoch 80/100\n",
            "48000/48000 [==============================] - 13s 269us/step - loss: 0.0527 - acc: 0.9809 - val_loss: 0.2216 - val_acc: 0.9399\n",
            "Epoch 81/100\n",
            "48000/48000 [==============================] - 13s 268us/step - loss: 0.0528 - acc: 0.9812 - val_loss: 0.2146 - val_acc: 0.9401\n",
            "Epoch 82/100\n",
            "48000/48000 [==============================] - 13s 270us/step - loss: 0.0491 - acc: 0.9818 - val_loss: 0.2117 - val_acc: 0.9399\n",
            "Epoch 83/100\n",
            "48000/48000 [==============================] - 13s 271us/step - loss: 0.0494 - acc: 0.9814 - val_loss: 0.2149 - val_acc: 0.9428\n",
            "Epoch 84/100\n",
            "48000/48000 [==============================] - 13s 268us/step - loss: 0.0498 - acc: 0.9814 - val_loss: 0.2212 - val_acc: 0.9402\n",
            "Epoch 85/100\n",
            "48000/48000 [==============================] - 13s 268us/step - loss: 0.0486 - acc: 0.9818 - val_loss: 0.2367 - val_acc: 0.9404\n",
            "Epoch 86/100\n",
            "48000/48000 [==============================] - 13s 269us/step - loss: 0.0491 - acc: 0.9815 - val_loss: 0.2173 - val_acc: 0.9410\n",
            "Epoch 87/100\n",
            "48000/48000 [==============================] - 13s 268us/step - loss: 0.0466 - acc: 0.9830 - val_loss: 0.2255 - val_acc: 0.9422\n",
            "Epoch 88/100\n",
            "48000/48000 [==============================] - 13s 269us/step - loss: 0.0490 - acc: 0.9820 - val_loss: 0.2187 - val_acc: 0.9403\n",
            "Epoch 89/100\n",
            "48000/48000 [==============================] - 13s 268us/step - loss: 0.0516 - acc: 0.9809 - val_loss: 0.2446 - val_acc: 0.9397\n",
            "Epoch 90/100\n",
            "48000/48000 [==============================] - 13s 269us/step - loss: 0.0454 - acc: 0.9831 - val_loss: 0.2111 - val_acc: 0.9414\n",
            "Epoch 91/100\n",
            "48000/48000 [==============================] - 13s 268us/step - loss: 0.0446 - acc: 0.9833 - val_loss: 0.2249 - val_acc: 0.9382\n",
            "Epoch 92/100\n",
            "48000/48000 [==============================] - 13s 271us/step - loss: 0.0495 - acc: 0.9821 - val_loss: 0.2174 - val_acc: 0.9412\n",
            "Epoch 93/100\n",
            "48000/48000 [==============================] - 13s 270us/step - loss: 0.0478 - acc: 0.9820 - val_loss: 0.2254 - val_acc: 0.9422\n",
            "Epoch 94/100\n",
            "48000/48000 [==============================] - 13s 268us/step - loss: 0.0459 - acc: 0.9822 - val_loss: 0.2183 - val_acc: 0.9411\n",
            "Epoch 95/100\n",
            "48000/48000 [==============================] - 13s 269us/step - loss: 0.0456 - acc: 0.9835 - val_loss: 0.2187 - val_acc: 0.9403\n",
            "Epoch 96/100\n",
            "48000/48000 [==============================] - 13s 271us/step - loss: 0.0477 - acc: 0.9826 - val_loss: 0.2400 - val_acc: 0.9393\n",
            "Epoch 97/100\n",
            "48000/48000 [==============================] - 13s 270us/step - loss: 0.0472 - acc: 0.9823 - val_loss: 0.2259 - val_acc: 0.9377\n",
            "Epoch 98/100\n",
            "48000/48000 [==============================] - 13s 271us/step - loss: 0.0438 - acc: 0.9841 - val_loss: 0.2208 - val_acc: 0.9412\n",
            "Epoch 99/100\n",
            "48000/48000 [==============================] - 13s 269us/step - loss: 0.0443 - acc: 0.9836 - val_loss: 0.2232 - val_acc: 0.9400\n",
            "Epoch 100/100\n",
            "48000/48000 [==============================] - 13s 269us/step - loss: 0.0460 - acc: 0.9831 - val_loss: 0.2273 - val_acc: 0.9398\n"
          ],
          "name": "stdout"
        }
      ]
    },
    {
      "cell_type": "code",
      "metadata": {
        "id": "vvz8UqPOHRx7",
        "colab_type": "code",
        "colab": {
          "base_uri": "https://localhost:8080/",
          "height": 1000
        },
        "outputId": "7e900e9b-8b62-4582-fa80-d4aee4926201"
      },
      "source": [
        "historia_c = melatih_model(cnn3())"
      ],
      "execution_count": 27,
      "outputs": [
        {
          "output_type": "stream",
          "text": [
            "Train on 48000 samples, validate on 12000 samples\n",
            "Epoch 1/100\n",
            "48000/48000 [==============================] - 15s 309us/step - loss: 0.8256 - acc: 0.7234 - val_loss: 0.4831 - val_acc: 0.8201\n",
            "Epoch 2/100\n",
            "48000/48000 [==============================] - 13s 274us/step - loss: 0.4333 - acc: 0.8530 - val_loss: 0.3005 - val_acc: 0.8905\n",
            "Epoch 3/100\n",
            "48000/48000 [==============================] - 13s 272us/step - loss: 0.3520 - acc: 0.8790 - val_loss: 0.3063 - val_acc: 0.8912\n",
            "Epoch 4/100\n",
            "48000/48000 [==============================] - 13s 271us/step - loss: 0.3133 - acc: 0.8907 - val_loss: 0.2412 - val_acc: 0.9106\n",
            "Epoch 5/100\n",
            "48000/48000 [==============================] - 13s 275us/step - loss: 0.2899 - acc: 0.8994 - val_loss: 0.2324 - val_acc: 0.9110\n",
            "Epoch 6/100\n",
            "48000/48000 [==============================] - 13s 273us/step - loss: 0.2646 - acc: 0.9068 - val_loss: 0.2175 - val_acc: 0.9172\n",
            "Epoch 7/100\n",
            "48000/48000 [==============================] - 13s 275us/step - loss: 0.2490 - acc: 0.9119 - val_loss: 0.2045 - val_acc: 0.9222\n",
            "Epoch 8/100\n",
            "48000/48000 [==============================] - 13s 272us/step - loss: 0.2373 - acc: 0.9164 - val_loss: 0.2064 - val_acc: 0.9240\n",
            "Epoch 9/100\n",
            "48000/48000 [==============================] - 13s 273us/step - loss: 0.2297 - acc: 0.9182 - val_loss: 0.2193 - val_acc: 0.9209\n",
            "Epoch 10/100\n",
            "48000/48000 [==============================] - 13s 273us/step - loss: 0.2209 - acc: 0.9219 - val_loss: 0.1993 - val_acc: 0.9217\n",
            "Epoch 11/100\n",
            "48000/48000 [==============================] - 13s 274us/step - loss: 0.2112 - acc: 0.9249 - val_loss: 0.1937 - val_acc: 0.9253\n",
            "Epoch 12/100\n",
            "48000/48000 [==============================] - 13s 274us/step - loss: 0.2017 - acc: 0.9284 - val_loss: 0.2028 - val_acc: 0.9239\n",
            "Epoch 13/100\n",
            "48000/48000 [==============================] - 13s 273us/step - loss: 0.1943 - acc: 0.9310 - val_loss: 0.1944 - val_acc: 0.9294\n",
            "Epoch 14/100\n",
            "48000/48000 [==============================] - 13s 274us/step - loss: 0.1880 - acc: 0.9323 - val_loss: 0.2062 - val_acc: 0.9249\n",
            "Epoch 15/100\n",
            "48000/48000 [==============================] - 13s 274us/step - loss: 0.1851 - acc: 0.9332 - val_loss: 0.1827 - val_acc: 0.9328\n",
            "Epoch 16/100\n",
            "48000/48000 [==============================] - 13s 275us/step - loss: 0.1795 - acc: 0.9353 - val_loss: 0.1826 - val_acc: 0.9316\n",
            "Epoch 17/100\n",
            "48000/48000 [==============================] - 13s 272us/step - loss: 0.1764 - acc: 0.9368 - val_loss: 0.1771 - val_acc: 0.9346\n",
            "Epoch 18/100\n",
            "48000/48000 [==============================] - 13s 273us/step - loss: 0.1693 - acc: 0.9387 - val_loss: 0.1746 - val_acc: 0.9351\n",
            "Epoch 19/100\n",
            "48000/48000 [==============================] - 13s 272us/step - loss: 0.1646 - acc: 0.9415 - val_loss: 0.1808 - val_acc: 0.9341\n",
            "Epoch 20/100\n",
            "48000/48000 [==============================] - 13s 274us/step - loss: 0.1564 - acc: 0.9433 - val_loss: 0.1874 - val_acc: 0.9332\n",
            "Epoch 21/100\n",
            "48000/48000 [==============================] - 13s 274us/step - loss: 0.1569 - acc: 0.9434 - val_loss: 0.1803 - val_acc: 0.9342\n",
            "Epoch 22/100\n",
            "48000/48000 [==============================] - 13s 271us/step - loss: 0.1539 - acc: 0.9454 - val_loss: 0.1831 - val_acc: 0.9333\n",
            "Epoch 23/100\n",
            "48000/48000 [==============================] - 13s 274us/step - loss: 0.1518 - acc: 0.9456 - val_loss: 0.1844 - val_acc: 0.9353\n",
            "Epoch 24/100\n",
            "48000/48000 [==============================] - 13s 273us/step - loss: 0.1428 - acc: 0.9485 - val_loss: 0.1682 - val_acc: 0.9412\n",
            "Epoch 25/100\n",
            "48000/48000 [==============================] - 13s 274us/step - loss: 0.1458 - acc: 0.9476 - val_loss: 0.1796 - val_acc: 0.9389\n",
            "Epoch 26/100\n",
            "48000/48000 [==============================] - 13s 274us/step - loss: 0.1405 - acc: 0.9497 - val_loss: 0.1727 - val_acc: 0.9410\n",
            "Epoch 27/100\n",
            "48000/48000 [==============================] - 13s 273us/step - loss: 0.1383 - acc: 0.9497 - val_loss: 0.1697 - val_acc: 0.9392\n",
            "Epoch 28/100\n",
            "48000/48000 [==============================] - 13s 273us/step - loss: 0.1349 - acc: 0.9506 - val_loss: 0.1719 - val_acc: 0.9409\n",
            "Epoch 29/100\n",
            "48000/48000 [==============================] - 13s 273us/step - loss: 0.1274 - acc: 0.9549 - val_loss: 0.1870 - val_acc: 0.9361\n",
            "Epoch 30/100\n",
            "48000/48000 [==============================] - 13s 271us/step - loss: 0.1258 - acc: 0.9553 - val_loss: 0.1878 - val_acc: 0.9340\n",
            "Epoch 31/100\n",
            "48000/48000 [==============================] - 13s 272us/step - loss: 0.1255 - acc: 0.9546 - val_loss: 0.1812 - val_acc: 0.9384\n",
            "Epoch 32/100\n",
            "48000/48000 [==============================] - 13s 273us/step - loss: 0.1248 - acc: 0.9550 - val_loss: 0.1763 - val_acc: 0.9403\n",
            "Epoch 33/100\n",
            "48000/48000 [==============================] - 13s 272us/step - loss: 0.1217 - acc: 0.9546 - val_loss: 0.1729 - val_acc: 0.9402\n",
            "Epoch 34/100\n",
            "48000/48000 [==============================] - 13s 273us/step - loss: 0.1163 - acc: 0.9590 - val_loss: 0.1728 - val_acc: 0.9420\n",
            "Epoch 35/100\n",
            "48000/48000 [==============================] - 13s 273us/step - loss: 0.1163 - acc: 0.9577 - val_loss: 0.1753 - val_acc: 0.9399\n",
            "Epoch 36/100\n",
            "48000/48000 [==============================] - 13s 273us/step - loss: 0.1099 - acc: 0.9602 - val_loss: 0.1695 - val_acc: 0.9416\n",
            "Epoch 37/100\n",
            "48000/48000 [==============================] - 13s 273us/step - loss: 0.1110 - acc: 0.9596 - val_loss: 0.1725 - val_acc: 0.9417\n",
            "Epoch 38/100\n",
            "48000/48000 [==============================] - 13s 273us/step - loss: 0.1091 - acc: 0.9598 - val_loss: 0.1731 - val_acc: 0.9415\n",
            "Epoch 39/100\n",
            "48000/48000 [==============================] - 13s 272us/step - loss: 0.1050 - acc: 0.9614 - val_loss: 0.1849 - val_acc: 0.9398\n",
            "Epoch 40/100\n",
            "48000/48000 [==============================] - 13s 272us/step - loss: 0.1065 - acc: 0.9615 - val_loss: 0.1773 - val_acc: 0.9391\n",
            "Epoch 41/100\n",
            "48000/48000 [==============================] - 13s 271us/step - loss: 0.1055 - acc: 0.9622 - val_loss: 0.1818 - val_acc: 0.9397\n",
            "Epoch 42/100\n",
            "48000/48000 [==============================] - 13s 271us/step - loss: 0.1039 - acc: 0.9620 - val_loss: 0.1931 - val_acc: 0.9394\n",
            "Epoch 43/100\n",
            "48000/48000 [==============================] - 13s 271us/step - loss: 0.1006 - acc: 0.9631 - val_loss: 0.1723 - val_acc: 0.9420\n",
            "Epoch 44/100\n",
            "48000/48000 [==============================] - 13s 273us/step - loss: 0.1032 - acc: 0.9622 - val_loss: 0.1752 - val_acc: 0.9435\n",
            "Epoch 45/100\n",
            "48000/48000 [==============================] - 13s 273us/step - loss: 0.1002 - acc: 0.9639 - val_loss: 0.2136 - val_acc: 0.9343\n",
            "Epoch 46/100\n",
            "48000/48000 [==============================] - 13s 273us/step - loss: 0.0970 - acc: 0.9647 - val_loss: 0.1877 - val_acc: 0.9387\n",
            "Epoch 47/100\n",
            "48000/48000 [==============================] - 13s 273us/step - loss: 0.0973 - acc: 0.9647 - val_loss: 0.1790 - val_acc: 0.9420\n",
            "Epoch 48/100\n",
            "48000/48000 [==============================] - 13s 272us/step - loss: 0.0963 - acc: 0.9647 - val_loss: 0.1696 - val_acc: 0.9435\n",
            "Epoch 49/100\n",
            "48000/48000 [==============================] - 13s 272us/step - loss: 0.0972 - acc: 0.9643 - val_loss: 0.1736 - val_acc: 0.9442\n",
            "Epoch 50/100\n",
            "48000/48000 [==============================] - 13s 273us/step - loss: 0.0900 - acc: 0.9671 - val_loss: 0.1797 - val_acc: 0.9420\n",
            "Epoch 51/100\n",
            "48000/48000 [==============================] - 13s 272us/step - loss: 0.0925 - acc: 0.9663 - val_loss: 0.1815 - val_acc: 0.9450\n",
            "Epoch 52/100\n",
            "48000/48000 [==============================] - 13s 272us/step - loss: 0.0897 - acc: 0.9670 - val_loss: 0.1795 - val_acc: 0.9422\n",
            "Epoch 53/100\n",
            "48000/48000 [==============================] - 13s 272us/step - loss: 0.0903 - acc: 0.9679 - val_loss: 0.1884 - val_acc: 0.9415\n",
            "Epoch 54/100\n",
            "48000/48000 [==============================] - 13s 273us/step - loss: 0.0898 - acc: 0.9678 - val_loss: 0.1857 - val_acc: 0.9425\n",
            "Epoch 55/100\n",
            "48000/48000 [==============================] - 13s 272us/step - loss: 0.0915 - acc: 0.9661 - val_loss: 0.1863 - val_acc: 0.9422\n",
            "Epoch 56/100\n",
            "48000/48000 [==============================] - 13s 273us/step - loss: 0.0855 - acc: 0.9685 - val_loss: 0.1812 - val_acc: 0.9431\n",
            "Epoch 57/100\n",
            "48000/48000 [==============================] - 13s 273us/step - loss: 0.0836 - acc: 0.9699 - val_loss: 0.1935 - val_acc: 0.9442\n",
            "Epoch 58/100\n",
            "48000/48000 [==============================] - 13s 273us/step - loss: 0.0854 - acc: 0.9697 - val_loss: 0.1869 - val_acc: 0.9452\n",
            "Epoch 59/100\n",
            "48000/48000 [==============================] - 13s 275us/step - loss: 0.0806 - acc: 0.9708 - val_loss: 0.1797 - val_acc: 0.9431\n",
            "Epoch 60/100\n",
            "48000/48000 [==============================] - 13s 275us/step - loss: 0.0826 - acc: 0.9699 - val_loss: 0.1831 - val_acc: 0.9429\n",
            "Epoch 61/100\n",
            "48000/48000 [==============================] - 13s 273us/step - loss: 0.0844 - acc: 0.9696 - val_loss: 0.1895 - val_acc: 0.9429\n",
            "Epoch 62/100\n",
            "48000/48000 [==============================] - 13s 274us/step - loss: 0.0781 - acc: 0.9716 - val_loss: 0.1856 - val_acc: 0.9430\n",
            "Epoch 63/100\n",
            "48000/48000 [==============================] - 13s 271us/step - loss: 0.0812 - acc: 0.9704 - val_loss: 0.1776 - val_acc: 0.9456\n",
            "Epoch 64/100\n",
            "48000/48000 [==============================] - 13s 273us/step - loss: 0.0766 - acc: 0.9711 - val_loss: 0.1894 - val_acc: 0.9452\n",
            "Epoch 65/100\n",
            "48000/48000 [==============================] - 13s 273us/step - loss: 0.0779 - acc: 0.9711 - val_loss: 0.1868 - val_acc: 0.9456\n",
            "Epoch 66/100\n",
            "48000/48000 [==============================] - 13s 273us/step - loss: 0.0779 - acc: 0.9718 - val_loss: 0.1986 - val_acc: 0.9426\n",
            "Epoch 67/100\n",
            "48000/48000 [==============================] - 13s 274us/step - loss: 0.0778 - acc: 0.9720 - val_loss: 0.1932 - val_acc: 0.9425\n",
            "Epoch 68/100\n",
            "48000/48000 [==============================] - 13s 274us/step - loss: 0.0723 - acc: 0.9737 - val_loss: 0.1910 - val_acc: 0.9432\n",
            "Epoch 69/100\n",
            "48000/48000 [==============================] - 13s 272us/step - loss: 0.0770 - acc: 0.9716 - val_loss: 0.2039 - val_acc: 0.9404\n",
            "Epoch 70/100\n",
            "48000/48000 [==============================] - 13s 273us/step - loss: 0.0735 - acc: 0.9736 - val_loss: 0.1924 - val_acc: 0.9423\n",
            "Epoch 71/100\n",
            "48000/48000 [==============================] - 13s 272us/step - loss: 0.0688 - acc: 0.9753 - val_loss: 0.2075 - val_acc: 0.9441\n",
            "Epoch 72/100\n",
            "48000/48000 [==============================] - 13s 272us/step - loss: 0.0728 - acc: 0.9740 - val_loss: 0.1896 - val_acc: 0.9447\n",
            "Epoch 73/100\n",
            "48000/48000 [==============================] - 13s 273us/step - loss: 0.0719 - acc: 0.9749 - val_loss: 0.1858 - val_acc: 0.9450\n",
            "Epoch 74/100\n",
            "48000/48000 [==============================] - 13s 273us/step - loss: 0.0766 - acc: 0.9718 - val_loss: 0.1967 - val_acc: 0.9427\n",
            "Epoch 75/100\n",
            "48000/48000 [==============================] - 13s 274us/step - loss: 0.0711 - acc: 0.9750 - val_loss: 0.2017 - val_acc: 0.9447\n",
            "Epoch 76/100\n",
            "48000/48000 [==============================] - 13s 274us/step - loss: 0.0722 - acc: 0.9745 - val_loss: 0.1997 - val_acc: 0.9434\n",
            "Epoch 77/100\n",
            "48000/48000 [==============================] - 13s 273us/step - loss: 0.0682 - acc: 0.9749 - val_loss: 0.1986 - val_acc: 0.9451\n",
            "Epoch 78/100\n",
            "48000/48000 [==============================] - 13s 273us/step - loss: 0.0686 - acc: 0.9748 - val_loss: 0.1963 - val_acc: 0.9442\n",
            "Epoch 79/100\n",
            "48000/48000 [==============================] - 13s 273us/step - loss: 0.0718 - acc: 0.9744 - val_loss: 0.1881 - val_acc: 0.9450\n",
            "Epoch 80/100\n",
            "48000/48000 [==============================] - 13s 274us/step - loss: 0.0703 - acc: 0.9747 - val_loss: 0.1923 - val_acc: 0.9442\n",
            "Epoch 81/100\n",
            "48000/48000 [==============================] - 13s 273us/step - loss: 0.0661 - acc: 0.9763 - val_loss: 0.1988 - val_acc: 0.9459\n",
            "Epoch 82/100\n",
            "48000/48000 [==============================] - 13s 274us/step - loss: 0.0679 - acc: 0.9759 - val_loss: 0.2032 - val_acc: 0.9436\n",
            "Epoch 83/100\n",
            "48000/48000 [==============================] - 13s 275us/step - loss: 0.0646 - acc: 0.9761 - val_loss: 0.1926 - val_acc: 0.9450\n",
            "Epoch 84/100\n",
            "48000/48000 [==============================] - 13s 273us/step - loss: 0.0685 - acc: 0.9746 - val_loss: 0.1945 - val_acc: 0.9447\n",
            "Epoch 85/100\n",
            "48000/48000 [==============================] - 13s 273us/step - loss: 0.0677 - acc: 0.9753 - val_loss: 0.1927 - val_acc: 0.9447\n",
            "Epoch 86/100\n",
            "48000/48000 [==============================] - 13s 273us/step - loss: 0.0650 - acc: 0.9765 - val_loss: 0.2070 - val_acc: 0.9423\n",
            "Epoch 87/100\n",
            "48000/48000 [==============================] - 13s 275us/step - loss: 0.0633 - acc: 0.9783 - val_loss: 0.1896 - val_acc: 0.9457\n",
            "Epoch 88/100\n",
            "48000/48000 [==============================] - 13s 273us/step - loss: 0.0623 - acc: 0.9781 - val_loss: 0.1958 - val_acc: 0.9455\n",
            "Epoch 89/100\n",
            "48000/48000 [==============================] - 13s 275us/step - loss: 0.0631 - acc: 0.9774 - val_loss: 0.1950 - val_acc: 0.9434\n",
            "Epoch 90/100\n",
            "48000/48000 [==============================] - 13s 274us/step - loss: 0.0647 - acc: 0.9769 - val_loss: 0.2024 - val_acc: 0.9451\n",
            "Epoch 91/100\n",
            "48000/48000 [==============================] - 13s 275us/step - loss: 0.0646 - acc: 0.9764 - val_loss: 0.1914 - val_acc: 0.9428\n",
            "Epoch 92/100\n",
            "48000/48000 [==============================] - 13s 273us/step - loss: 0.0660 - acc: 0.9759 - val_loss: 0.2152 - val_acc: 0.9437\n",
            "Epoch 93/100\n",
            "48000/48000 [==============================] - 13s 272us/step - loss: 0.0594 - acc: 0.9785 - val_loss: 0.2037 - val_acc: 0.9442\n",
            "Epoch 94/100\n",
            "48000/48000 [==============================] - 13s 273us/step - loss: 0.0626 - acc: 0.9773 - val_loss: 0.1963 - val_acc: 0.9458\n",
            "Epoch 95/100\n",
            "48000/48000 [==============================] - 13s 271us/step - loss: 0.0623 - acc: 0.9776 - val_loss: 0.1980 - val_acc: 0.9447\n",
            "Epoch 96/100\n",
            "48000/48000 [==============================] - 13s 272us/step - loss: 0.0578 - acc: 0.9797 - val_loss: 0.2049 - val_acc: 0.9436\n",
            "Epoch 97/100\n",
            "48000/48000 [==============================] - 13s 273us/step - loss: 0.0607 - acc: 0.9783 - val_loss: 0.2037 - val_acc: 0.9445\n",
            "Epoch 98/100\n",
            "48000/48000 [==============================] - 13s 273us/step - loss: 0.0638 - acc: 0.9772 - val_loss: 0.2031 - val_acc: 0.9444\n",
            "Epoch 99/100\n",
            "48000/48000 [==============================] - 13s 272us/step - loss: 0.0589 - acc: 0.9793 - val_loss: 0.1977 - val_acc: 0.9430\n",
            "Epoch 100/100\n",
            "48000/48000 [==============================] - 13s 273us/step - loss: 0.0620 - acc: 0.9776 - val_loss: 0.2050 - val_acc: 0.9412\n"
          ],
          "name": "stdout"
        }
      ]
    },
    {
      "cell_type": "code",
      "metadata": {
        "id": "nIZn1rBTHU6Q",
        "colab_type": "code",
        "colab": {
          "base_uri": "https://localhost:8080/",
          "height": 1000
        },
        "outputId": "a10e04d4-f6bf-4d1e-fc10-c60fce9a07b1"
      },
      "source": [
        "historia_d = melatih_model(cnn4())"
      ],
      "execution_count": 29,
      "outputs": [
        {
          "output_type": "stream",
          "text": [
            "Train on 48000 samples, validate on 12000 samples\n",
            "Epoch 1/100\n",
            "48000/48000 [==============================] - 15s 308us/step - loss: 0.6853 - acc: 0.7687 - val_loss: 0.3628 - val_acc: 0.8684\n",
            "Epoch 2/100\n",
            "48000/48000 [==============================] - 13s 269us/step - loss: 0.3891 - acc: 0.8650 - val_loss: 0.3178 - val_acc: 0.8792\n",
            "Epoch 3/100\n",
            "48000/48000 [==============================] - 13s 269us/step - loss: 0.3195 - acc: 0.8898 - val_loss: 0.2590 - val_acc: 0.9047\n",
            "Epoch 4/100\n",
            "48000/48000 [==============================] - 13s 268us/step - loss: 0.2862 - acc: 0.8996 - val_loss: 0.2451 - val_acc: 0.9106\n",
            "Epoch 5/100\n",
            "48000/48000 [==============================] - 13s 268us/step - loss: 0.2634 - acc: 0.9067 - val_loss: 0.2240 - val_acc: 0.9175\n",
            "Epoch 6/100\n",
            "48000/48000 [==============================] - 13s 268us/step - loss: 0.2473 - acc: 0.9118 - val_loss: 0.2131 - val_acc: 0.9201\n",
            "Epoch 7/100\n",
            "48000/48000 [==============================] - 13s 270us/step - loss: 0.2320 - acc: 0.9166 - val_loss: 0.2166 - val_acc: 0.9207\n",
            "Epoch 8/100\n",
            "48000/48000 [==============================] - 13s 268us/step - loss: 0.2247 - acc: 0.9200 - val_loss: 0.1986 - val_acc: 0.9253\n",
            "Epoch 9/100\n",
            "48000/48000 [==============================] - 13s 268us/step - loss: 0.2146 - acc: 0.9231 - val_loss: 0.1957 - val_acc: 0.9290\n",
            "Epoch 10/100\n",
            "48000/48000 [==============================] - 13s 269us/step - loss: 0.2050 - acc: 0.9256 - val_loss: 0.1918 - val_acc: 0.9292\n",
            "Epoch 11/100\n",
            "48000/48000 [==============================] - 13s 269us/step - loss: 0.1968 - acc: 0.9290 - val_loss: 0.1874 - val_acc: 0.9310\n",
            "Epoch 12/100\n",
            "48000/48000 [==============================] - 13s 269us/step - loss: 0.1902 - acc: 0.9330 - val_loss: 0.1791 - val_acc: 0.9329\n",
            "Epoch 13/100\n",
            "48000/48000 [==============================] - 13s 268us/step - loss: 0.1851 - acc: 0.9340 - val_loss: 0.1920 - val_acc: 0.9306\n",
            "Epoch 14/100\n",
            "48000/48000 [==============================] - 13s 270us/step - loss: 0.1800 - acc: 0.9355 - val_loss: 0.1902 - val_acc: 0.9319\n",
            "Epoch 15/100\n",
            "48000/48000 [==============================] - 13s 270us/step - loss: 0.1767 - acc: 0.9356 - val_loss: 0.1872 - val_acc: 0.9308\n",
            "Epoch 16/100\n",
            "48000/48000 [==============================] - 13s 270us/step - loss: 0.1694 - acc: 0.9378 - val_loss: 0.1811 - val_acc: 0.9335\n",
            "Epoch 17/100\n",
            "48000/48000 [==============================] - 13s 270us/step - loss: 0.1647 - acc: 0.9404 - val_loss: 0.1844 - val_acc: 0.9335\n",
            "Epoch 18/100\n",
            "48000/48000 [==============================] - 13s 267us/step - loss: 0.1573 - acc: 0.9426 - val_loss: 0.1858 - val_acc: 0.9328\n",
            "Epoch 19/100\n",
            "48000/48000 [==============================] - 13s 269us/step - loss: 0.1570 - acc: 0.9425 - val_loss: 0.1868 - val_acc: 0.9348\n",
            "Epoch 20/100\n",
            "48000/48000 [==============================] - 13s 269us/step - loss: 0.1535 - acc: 0.9435 - val_loss: 0.1892 - val_acc: 0.9338\n",
            "Epoch 21/100\n",
            "48000/48000 [==============================] - 13s 269us/step - loss: 0.1462 - acc: 0.9464 - val_loss: 0.1788 - val_acc: 0.9367\n",
            "Epoch 22/100\n",
            "48000/48000 [==============================] - 13s 269us/step - loss: 0.1486 - acc: 0.9463 - val_loss: 0.1823 - val_acc: 0.9357\n",
            "Epoch 23/100\n",
            "48000/48000 [==============================] - 13s 269us/step - loss: 0.1427 - acc: 0.9468 - val_loss: 0.1790 - val_acc: 0.9349\n",
            "Epoch 24/100\n",
            "48000/48000 [==============================] - 13s 268us/step - loss: 0.1404 - acc: 0.9489 - val_loss: 0.1833 - val_acc: 0.9349\n",
            "Epoch 25/100\n",
            "48000/48000 [==============================] - 13s 268us/step - loss: 0.1363 - acc: 0.9501 - val_loss: 0.1799 - val_acc: 0.9372\n",
            "Epoch 26/100\n",
            "48000/48000 [==============================] - 13s 268us/step - loss: 0.1304 - acc: 0.9521 - val_loss: 0.1851 - val_acc: 0.9333\n",
            "Epoch 27/100\n",
            "48000/48000 [==============================] - 13s 268us/step - loss: 0.1300 - acc: 0.9530 - val_loss: 0.1931 - val_acc: 0.9329\n",
            "Epoch 28/100\n",
            "48000/48000 [==============================] - 13s 268us/step - loss: 0.1297 - acc: 0.9531 - val_loss: 0.1801 - val_acc: 0.9377\n",
            "Epoch 29/100\n",
            "48000/48000 [==============================] - 13s 269us/step - loss: 0.1241 - acc: 0.9534 - val_loss: 0.2050 - val_acc: 0.9302\n",
            "Epoch 30/100\n",
            "48000/48000 [==============================] - 13s 269us/step - loss: 0.1209 - acc: 0.9573 - val_loss: 0.1845 - val_acc: 0.9347\n",
            "Epoch 31/100\n",
            "48000/48000 [==============================] - 13s 268us/step - loss: 0.1217 - acc: 0.9550 - val_loss: 0.1978 - val_acc: 0.9302\n",
            "Epoch 32/100\n",
            "48000/48000 [==============================] - 13s 269us/step - loss: 0.1189 - acc: 0.9557 - val_loss: 0.1756 - val_acc: 0.9395\n",
            "Epoch 33/100\n",
            "48000/48000 [==============================] - 13s 270us/step - loss: 0.1156 - acc: 0.9568 - val_loss: 0.1894 - val_acc: 0.9369\n",
            "Epoch 34/100\n",
            "48000/48000 [==============================] - 13s 268us/step - loss: 0.1126 - acc: 0.9585 - val_loss: 0.1815 - val_acc: 0.9391\n",
            "Epoch 35/100\n",
            "48000/48000 [==============================] - 13s 270us/step - loss: 0.1141 - acc: 0.9578 - val_loss: 0.1941 - val_acc: 0.9361\n",
            "Epoch 36/100\n",
            "48000/48000 [==============================] - 13s 269us/step - loss: 0.1119 - acc: 0.9578 - val_loss: 0.2083 - val_acc: 0.9300\n",
            "Epoch 37/100\n",
            "48000/48000 [==============================] - 13s 268us/step - loss: 0.1111 - acc: 0.9597 - val_loss: 0.1964 - val_acc: 0.9340\n",
            "Epoch 38/100\n",
            "48000/48000 [==============================] - 13s 269us/step - loss: 0.1067 - acc: 0.9607 - val_loss: 0.1805 - val_acc: 0.9379\n",
            "Epoch 39/100\n",
            "48000/48000 [==============================] - 13s 269us/step - loss: 0.1039 - acc: 0.9610 - val_loss: 0.1929 - val_acc: 0.9377\n",
            "Epoch 40/100\n",
            "48000/48000 [==============================] - 13s 268us/step - loss: 0.1051 - acc: 0.9618 - val_loss: 0.1985 - val_acc: 0.9356\n",
            "Epoch 41/100\n",
            "48000/48000 [==============================] - 13s 270us/step - loss: 0.1010 - acc: 0.9630 - val_loss: 0.1845 - val_acc: 0.9385\n",
            "Epoch 42/100\n",
            "48000/48000 [==============================] - 13s 269us/step - loss: 0.1019 - acc: 0.9619 - val_loss: 0.1959 - val_acc: 0.9373\n",
            "Epoch 43/100\n",
            "48000/48000 [==============================] - 13s 269us/step - loss: 0.0997 - acc: 0.9633 - val_loss: 0.1858 - val_acc: 0.9391\n",
            "Epoch 44/100\n",
            "48000/48000 [==============================] - 13s 269us/step - loss: 0.0987 - acc: 0.9628 - val_loss: 0.1902 - val_acc: 0.9392\n",
            "Epoch 45/100\n",
            "48000/48000 [==============================] - 13s 269us/step - loss: 0.0959 - acc: 0.9651 - val_loss: 0.1848 - val_acc: 0.9388\n",
            "Epoch 46/100\n",
            "48000/48000 [==============================] - 13s 270us/step - loss: 0.0936 - acc: 0.9653 - val_loss: 0.1902 - val_acc: 0.9398\n",
            "Epoch 47/100\n",
            "48000/48000 [==============================] - 13s 270us/step - loss: 0.0929 - acc: 0.9648 - val_loss: 0.1972 - val_acc: 0.9377\n",
            "Epoch 48/100\n",
            "48000/48000 [==============================] - 13s 271us/step - loss: 0.0924 - acc: 0.9660 - val_loss: 0.1975 - val_acc: 0.9391\n",
            "Epoch 49/100\n",
            "48000/48000 [==============================] - 13s 270us/step - loss: 0.0905 - acc: 0.9662 - val_loss: 0.1876 - val_acc: 0.9421\n",
            "Epoch 50/100\n",
            "48000/48000 [==============================] - 13s 270us/step - loss: 0.0903 - acc: 0.9668 - val_loss: 0.1907 - val_acc: 0.9393\n",
            "Epoch 51/100\n",
            "48000/48000 [==============================] - 13s 269us/step - loss: 0.0913 - acc: 0.9656 - val_loss: 0.1867 - val_acc: 0.9404\n",
            "Epoch 52/100\n",
            "48000/48000 [==============================] - 13s 269us/step - loss: 0.0838 - acc: 0.9688 - val_loss: 0.1993 - val_acc: 0.9372\n",
            "Epoch 53/100\n",
            "48000/48000 [==============================] - 13s 269us/step - loss: 0.0890 - acc: 0.9660 - val_loss: 0.1980 - val_acc: 0.9407\n",
            "Epoch 54/100\n",
            "48000/48000 [==============================] - 13s 268us/step - loss: 0.0861 - acc: 0.9682 - val_loss: 0.1923 - val_acc: 0.9428\n",
            "Epoch 55/100\n",
            "48000/48000 [==============================] - 13s 268us/step - loss: 0.0843 - acc: 0.9686 - val_loss: 0.2020 - val_acc: 0.9397\n",
            "Epoch 56/100\n",
            "48000/48000 [==============================] - 13s 269us/step - loss: 0.0810 - acc: 0.9704 - val_loss: 0.1900 - val_acc: 0.9420\n",
            "Epoch 57/100\n",
            "48000/48000 [==============================] - 13s 270us/step - loss: 0.0825 - acc: 0.9691 - val_loss: 0.1963 - val_acc: 0.9407\n",
            "Epoch 58/100\n",
            "48000/48000 [==============================] - 13s 269us/step - loss: 0.0810 - acc: 0.9701 - val_loss: 0.1929 - val_acc: 0.9412\n",
            "Epoch 59/100\n",
            "48000/48000 [==============================] - 13s 269us/step - loss: 0.0796 - acc: 0.9712 - val_loss: 0.1900 - val_acc: 0.9419\n",
            "Epoch 60/100\n",
            "48000/48000 [==============================] - 13s 268us/step - loss: 0.0805 - acc: 0.9699 - val_loss: 0.2002 - val_acc: 0.9401\n",
            "Epoch 61/100\n",
            "48000/48000 [==============================] - 13s 269us/step - loss: 0.0801 - acc: 0.9704 - val_loss: 0.2063 - val_acc: 0.9387\n",
            "Epoch 62/100\n",
            "48000/48000 [==============================] - 13s 267us/step - loss: 0.0816 - acc: 0.9692 - val_loss: 0.2254 - val_acc: 0.9343\n",
            "Epoch 63/100\n",
            "48000/48000 [==============================] - 13s 267us/step - loss: 0.0795 - acc: 0.9711 - val_loss: 0.2033 - val_acc: 0.9409\n",
            "Epoch 64/100\n",
            "48000/48000 [==============================] - 13s 269us/step - loss: 0.0787 - acc: 0.9712 - val_loss: 0.1949 - val_acc: 0.9415\n",
            "Epoch 65/100\n",
            "48000/48000 [==============================] - 13s 269us/step - loss: 0.0754 - acc: 0.9716 - val_loss: 0.2054 - val_acc: 0.9387\n",
            "Epoch 66/100\n",
            "48000/48000 [==============================] - 13s 269us/step - loss: 0.0754 - acc: 0.9723 - val_loss: 0.2013 - val_acc: 0.9427\n",
            "Epoch 67/100\n",
            "48000/48000 [==============================] - 13s 268us/step - loss: 0.0748 - acc: 0.9724 - val_loss: 0.2097 - val_acc: 0.9387\n",
            "Epoch 68/100\n",
            "48000/48000 [==============================] - 13s 269us/step - loss: 0.0746 - acc: 0.9721 - val_loss: 0.1933 - val_acc: 0.9416\n",
            "Epoch 69/100\n",
            "48000/48000 [==============================] - 13s 268us/step - loss: 0.0727 - acc: 0.9730 - val_loss: 0.1980 - val_acc: 0.9428\n",
            "Epoch 70/100\n",
            "48000/48000 [==============================] - 13s 269us/step - loss: 0.0729 - acc: 0.9729 - val_loss: 0.2152 - val_acc: 0.9417\n",
            "Epoch 71/100\n",
            "48000/48000 [==============================] - 13s 270us/step - loss: 0.0733 - acc: 0.9724 - val_loss: 0.2178 - val_acc: 0.9374\n",
            "Epoch 72/100\n",
            "48000/48000 [==============================] - 13s 269us/step - loss: 0.0709 - acc: 0.9731 - val_loss: 0.1983 - val_acc: 0.9429\n",
            "Epoch 73/100\n",
            "48000/48000 [==============================] - 13s 267us/step - loss: 0.0712 - acc: 0.9733 - val_loss: 0.2031 - val_acc: 0.9431\n",
            "Epoch 74/100\n",
            "48000/48000 [==============================] - 13s 269us/step - loss: 0.0739 - acc: 0.9723 - val_loss: 0.2003 - val_acc: 0.9420\n",
            "Epoch 75/100\n",
            "48000/48000 [==============================] - 13s 270us/step - loss: 0.0701 - acc: 0.9747 - val_loss: 0.2163 - val_acc: 0.9411\n",
            "Epoch 76/100\n",
            "48000/48000 [==============================] - 13s 270us/step - loss: 0.0697 - acc: 0.9742 - val_loss: 0.2088 - val_acc: 0.9444\n",
            "Epoch 77/100\n",
            "48000/48000 [==============================] - 13s 269us/step - loss: 0.0692 - acc: 0.9743 - val_loss: 0.2063 - val_acc: 0.9417\n",
            "Epoch 78/100\n",
            "48000/48000 [==============================] - 13s 268us/step - loss: 0.0674 - acc: 0.9750 - val_loss: 0.2083 - val_acc: 0.9424\n",
            "Epoch 79/100\n",
            "48000/48000 [==============================] - 13s 268us/step - loss: 0.0679 - acc: 0.9736 - val_loss: 0.2147 - val_acc: 0.9422\n",
            "Epoch 80/100\n",
            "48000/48000 [==============================] - 13s 268us/step - loss: 0.0659 - acc: 0.9753 - val_loss: 0.2071 - val_acc: 0.9407\n",
            "Epoch 81/100\n",
            "48000/48000 [==============================] - 13s 268us/step - loss: 0.0663 - acc: 0.9749 - val_loss: 0.2180 - val_acc: 0.9413\n",
            "Epoch 82/100\n",
            "48000/48000 [==============================] - 13s 268us/step - loss: 0.0657 - acc: 0.9756 - val_loss: 0.2187 - val_acc: 0.9382\n",
            "Epoch 83/100\n",
            "48000/48000 [==============================] - 13s 267us/step - loss: 0.0669 - acc: 0.9755 - val_loss: 0.2070 - val_acc: 0.9430\n",
            "Epoch 84/100\n",
            "48000/48000 [==============================] - 13s 269us/step - loss: 0.0646 - acc: 0.9763 - val_loss: 0.2136 - val_acc: 0.9376\n",
            "Epoch 85/100\n",
            "48000/48000 [==============================] - 13s 268us/step - loss: 0.0647 - acc: 0.9756 - val_loss: 0.2064 - val_acc: 0.9414\n",
            "Epoch 86/100\n",
            "48000/48000 [==============================] - 13s 268us/step - loss: 0.0652 - acc: 0.9762 - val_loss: 0.2261 - val_acc: 0.9345\n",
            "Epoch 87/100\n",
            "48000/48000 [==============================] - 13s 268us/step - loss: 0.0665 - acc: 0.9755 - val_loss: 0.2146 - val_acc: 0.9411\n",
            "Epoch 88/100\n",
            "48000/48000 [==============================] - 13s 269us/step - loss: 0.0631 - acc: 0.9764 - val_loss: 0.2176 - val_acc: 0.9409\n",
            "Epoch 89/100\n",
            "48000/48000 [==============================] - 13s 270us/step - loss: 0.0633 - acc: 0.9765 - val_loss: 0.2104 - val_acc: 0.9394\n",
            "Epoch 90/100\n",
            "48000/48000 [==============================] - 13s 268us/step - loss: 0.0628 - acc: 0.9768 - val_loss: 0.2127 - val_acc: 0.9405\n",
            "Epoch 91/100\n",
            "48000/48000 [==============================] - 13s 269us/step - loss: 0.0625 - acc: 0.9775 - val_loss: 0.2094 - val_acc: 0.9427\n",
            "Epoch 92/100\n",
            "48000/48000 [==============================] - 13s 267us/step - loss: 0.0635 - acc: 0.9768 - val_loss: 0.2052 - val_acc: 0.9413\n",
            "Epoch 93/100\n",
            "48000/48000 [==============================] - 13s 267us/step - loss: 0.0602 - acc: 0.9776 - val_loss: 0.2114 - val_acc: 0.9417\n",
            "Epoch 94/100\n",
            "48000/48000 [==============================] - 13s 268us/step - loss: 0.0602 - acc: 0.9773 - val_loss: 0.2180 - val_acc: 0.9418\n",
            "Epoch 95/100\n",
            "48000/48000 [==============================] - 13s 268us/step - loss: 0.0612 - acc: 0.9775 - val_loss: 0.2136 - val_acc: 0.9428\n",
            "Epoch 96/100\n",
            "48000/48000 [==============================] - 13s 268us/step - loss: 0.0618 - acc: 0.9770 - val_loss: 0.2060 - val_acc: 0.9420\n",
            "Epoch 97/100\n",
            "48000/48000 [==============================] - 13s 268us/step - loss: 0.0588 - acc: 0.9775 - val_loss: 0.2126 - val_acc: 0.9409\n",
            "Epoch 98/100\n",
            "48000/48000 [==============================] - 13s 267us/step - loss: 0.0576 - acc: 0.9784 - val_loss: 0.2160 - val_acc: 0.9437\n",
            "Epoch 99/100\n",
            "48000/48000 [==============================] - 13s 268us/step - loss: 0.0575 - acc: 0.9781 - val_loss: 0.2068 - val_acc: 0.9432\n",
            "Epoch 100/100\n",
            "48000/48000 [==============================] - 13s 268us/step - loss: 0.0574 - acc: 0.9789 - val_loss: 0.2161 - val_acc: 0.9426\n"
          ],
          "name": "stdout"
        }
      ]
    },
    {
      "cell_type": "markdown",
      "metadata": {
        "id": "gvd_aMYO57Hs",
        "colab_type": "text"
      },
      "source": [
        "### Membuat Prediksi Akurasi di Data Uji\n",
        "Menggunakan model yang telah di latih di atas ke data X_test_baru kemudian hitung nilai akurasinya. Kebenaran dari nilai prediksi dari model, dibandingkan dengan label sesungguhnya menggunakan *module* Keras yaitu accuracy_score sehingga diperoleh nilai akurasinya. Proses ini dilakukan masing-masing untuk hasil prediksi dari CNN_1, CNN_2, CNN_3, dan CNN_4. Proses ini menggunakan atribut model dari objek history keras yang akan menghasilan objek Sequential keras yang mewarisi sifat-sifat model yang dilatih. Kemudian dikenakan ke metode predict() untuk memperoleh nilai prediksi/ memprediksi label dari data uji (X_test_baru)"
      ]
    },
    {
      "cell_type": "code",
      "metadata": {
        "id": "xFbqDK_Q_id5",
        "colab_type": "code",
        "colab": {}
      },
      "source": [
        "def memprediksi(historia):\n",
        "  modyel = historia.model\n",
        "  prediksi = modyel.predict(X_test_baru)\n",
        "  prediksii = np.argmax(prediksi, axis=1) #argmax digunakan untuk memilih nilai yang paling besar dari suatu one_hot prediksi_a, axis=1 mencari terbesar sepanjang kolom\n",
        "  return prediksii"
      ],
      "execution_count": 0,
      "outputs": []
    },
    {
      "cell_type": "code",
      "metadata": {
        "id": "r7exzDgCAN16",
        "colab_type": "code",
        "colab": {
          "base_uri": "https://localhost:8080/",
          "height": 35
        },
        "outputId": "3bca6ea8-37f2-43a2-8665-508105a816ab"
      },
      "source": [
        "prediksi_a1 = memprediksi(historia_a)\n",
        "print('Akurasi model CNN1 di data uji= {}'.format(np.round(accuracy_score(y_test, prediksi_a1)*100, 2)))"
      ],
      "execution_count": 24,
      "outputs": [
        {
          "output_type": "stream",
          "text": [
            "Akurasi model CNN1 di data uji= 93.72\n"
          ],
          "name": "stdout"
        }
      ]
    },
    {
      "cell_type": "code",
      "metadata": {
        "id": "xogM4hdSMiwx",
        "colab_type": "code",
        "colab": {
          "base_uri": "https://localhost:8080/",
          "height": 35
        },
        "outputId": "217abdb6-54b4-427d-a1c9-931d9eb207f2"
      },
      "source": [
        "prediksi_b1 = memprediksi(historia_b)\n",
        "print('Akurasi model CNN2 di data uji= {}'.format(np.round(accuracy_score(y_test, prediksi_b1)*100, 2)))"
      ],
      "execution_count": 26,
      "outputs": [
        {
          "output_type": "stream",
          "text": [
            "Akurasi model CNN2 di data uji= 93.58\n"
          ],
          "name": "stdout"
        }
      ]
    },
    {
      "cell_type": "code",
      "metadata": {
        "id": "Y4fV5ZcsSSWk",
        "colab_type": "code",
        "colab": {
          "base_uri": "https://localhost:8080/",
          "height": 35
        },
        "outputId": "b169de0e-d057-4cec-ab47-b476f2d119d8"
      },
      "source": [
        "prediksi_c1 = memprediksi(historia_c)\n",
        "print('Akurasi model CNN2 di data uji= {}'.format(np.round(accuracy_score(y_test, prediksi_c1)*100, 2)))"
      ],
      "execution_count": 28,
      "outputs": [
        {
          "output_type": "stream",
          "text": [
            "Akurasi model CNN2 di data uji= 94.03\n"
          ],
          "name": "stdout"
        }
      ]
    },
    {
      "cell_type": "code",
      "metadata": {
        "id": "27g8G9l3XkpM",
        "colab_type": "code",
        "colab": {
          "base_uri": "https://localhost:8080/",
          "height": 35
        },
        "outputId": "e22e5f3c-05d9-4c9d-8fe1-0207463f1dec"
      },
      "source": [
        "prediksi_d1 = memprediksi(historia_d)\n",
        "print('Akurasi model CNN2 di data uji= {}'.format(np.round(accuracy_score(y_test, prediksi_d1)*100, 2)))"
      ],
      "execution_count": 30,
      "outputs": [
        {
          "output_type": "stream",
          "text": [
            "Akurasi model CNN2 di data uji= 93.58\n"
          ],
          "name": "stdout"
        }
      ]
    },
    {
      "cell_type": "code",
      "metadata": {
        "id": "YqOsYzH1X1gP",
        "colab_type": "code",
        "colab": {}
      },
      "source": [
        "akurasi_uji = {'CNN_1':93.72, 'CNN_2':93.58, 'CNN_3':94.03, 'CNN_4':93.58}"
      ],
      "execution_count": 0,
      "outputs": []
    },
    {
      "cell_type": "markdown",
      "metadata": {
        "id": "-HaCeV-t5T1s",
        "colab_type": "text"
      },
      "source": [
        "## Evaluasi Model"
      ]
    },
    {
      "cell_type": "markdown",
      "metadata": {
        "id": "OFv98zPZluMl",
        "colab_type": "text"
      },
      "source": [
        "### Akurasi Model\n",
        "\n",
        "Bagian ini digunakan untuk menampakkan grafik akurasi dan *loss* dari model yang sudah dilatih di data latih dan divalidasi di data validasi. *Return values* dari Sequential.fit() adalah suatu objek history Keras, objek ini memiliki beberapa atribut diantaranya atribut history yang digunakan untuk menampilkan history nilai loss, acc (akurasi), val_loss (loss di data validasi), dan val_acc (akurasi di data validasi) ke dalam suatu list."
      ]
    },
    {
      "cell_type": "code",
      "metadata": {
        "id": "LDvltPgLMgU9",
        "colab_type": "code",
        "outputId": "d3869a84-0360-4711-d73e-6faa93d69bcc",
        "colab": {
          "base_uri": "https://localhost:8080/",
          "height": 1000
        }
      },
      "source": [
        "# Siapkan data untuk plotting loss dan akurasi pada data laith dan validasi\n",
        "loss_a = historia_a.history['loss']\n",
        "acc_a  = historia_a.history['acc']\n",
        "val_loss_a = historia_a.history['val_loss']\n",
        "val_acc_a = historia_a.history['val_acc']\n",
        "\n",
        "loss_b = historia_b.history['loss']\n",
        "acc_b = historia_b.history['acc']\n",
        "val_loss_b = historia_b.history['val_loss']\n",
        "val_acc_b = historia_b.history['val_acc']\n",
        "\n",
        "loss_c = historia_c.history['loss']\n",
        "acc_c = historia_c.history['acc']\n",
        "val_loss_c = historia_c.history['val_loss']\n",
        "val_acc_c = historia_c.history['val_acc']\n",
        "\n",
        "loss_d = historia_d.history['loss']\n",
        "acc_d = historia_d.history['acc']\n",
        "val_loss_d = historia_d.history['val_loss']\n",
        "val_acc_d = historia_d.history['val_acc']\n",
        "\n",
        "# Plot Loss Latih\n",
        "plt.figure(figsize=(10,8))\n",
        "p_loss_a = plt.plot(loss_a, 'red')\n",
        "p_loss_b = plt.plot(loss_b, 'green')\n",
        "p_loss_c = plt.plot(loss_c, 'blue')\n",
        "p_loss_d = plt.plot(loss_d, 'purple')\n",
        "\n",
        "plt.xlabel('Epochs')\n",
        "plt.ylabel('Loss Latih')\n",
        "plt.title('Loss Latih')\n",
        "plt.legend([\"CNN_1\", \"CNN_2\", 'CNN_3', 'CNN_4'], loc=0)\n",
        "plt.show()\n",
        "\n",
        "# Plot Loss Validasi\n",
        "plt.figure(figsize=(10,8))\n",
        "p_val_loss_a = plt.plot(val_loss_a, 'red')\n",
        "p_val_loss_b = plt.plot(val_loss_b, 'green')\n",
        "p_val_loss_c = plt.plot(val_loss_c, 'blue')\n",
        "p_val_loss_d = plt.plot(val_loss_d, 'purple')\n",
        "\n",
        "plt.xlabel('Epochs')\n",
        "plt.ylabel('Loss Validation')\n",
        "plt.title('Loss Validation')\n",
        "plt.legend([\"CNN_1\", \"CNN_2\", 'CNN_3', 'CNN_4'], loc=0)\n",
        "plt.show()\n",
        "\n",
        "# Plot Akurasi Latih\n",
        "plt.figure(figsize=(10,8))\n",
        "p_acc_a = plt.plot(acc_a, 'red')\n",
        "p_acc_b = plt.plot(acc_b, 'green')\n",
        "p_acc_c = plt.plot(acc_c, 'blue')\n",
        "P_acc_d = plt.plot(acc_d, 'purple')\n",
        "\n",
        "\n",
        "plt.xlabel('Epochs')\n",
        "plt.ylabel('Akurasi')\n",
        "plt.title('Akurasi Latih')\n",
        "plt.legend(['CNN_1', 'CNN_2', 'CNN_3', 'CNN_4'], loc=4)\n",
        "plt.show()\n",
        "\n",
        "# Plot Akurasi Validasi\n",
        "plt.figure(figsize=(10,8))\n",
        "p_val_acc_a = plt.plot(val_acc_a, 'red')\n",
        "p_val_acc_b = plt.plot(val_acc_b, 'green')\n",
        "p_val_acc_c = plt.plot(val_acc_c, 'blue')\n",
        "p_val_acc_d = plt.plot(val_acc_d, 'purple')\n",
        "\n",
        "plt.xlabel('Epochs')\n",
        "plt.ylabel('Akurasi')\n",
        "plt.title('Akurasi Validasi')\n",
        "plt.legend(['CNN_1', 'CNN_2', 'CNN_3', 'CNN_4'], loc=4)\n",
        "plt.show()\n"
      ],
      "execution_count": 33,
      "outputs": [
        {
          "output_type": "display_data",
          "data": {
            "image/png": "[encoded data removed]",
            "text/plain": [
              "<Figure size 720x576 with 1 Axes>"
            ]
          },
          "metadata": {
            "tags": []
          }
        },
        {
          "output_type": "display_data",
          "data": {
            "image/png": "[encoded data removed]",
            "text/plain": [
              "<Figure size 720x576 with 1 Axes>"
            ]
          },
          "metadata": {
            "tags": []
          }
        },
        {
          "output_type": "display_data",
          "data": {
            "image/png": "[encoded data removed]",
            "text/plain": [
              "<Figure size 720x576 with 1 Axes>"
            ]
          },
          "metadata": {
            "tags": []
          }
        },
        {
          "output_type": "display_data",
          "data": {
            "image/png": "[encoded data removed]",
            "text/plain": [
              "<Figure size 720x576 with 1 Axes>"
            ]
          },
          "metadata": {
            "tags": []
          }
        }
      ]
    },
    {
      "cell_type": "markdown",
      "metadata": {
        "id": "U-TENlLX2m9r",
        "colab_type": "text"
      },
      "source": [
        "### Confusion Matrix\n",
        "\n",
        "Membuat *confusion matrix* untuk melihat kecocokan prediksi model dengan label asli.\n"
      ]
    },
    {
      "cell_type": "code",
      "metadata": {
        "id": "adZOZjz1rWed",
        "colab_type": "code",
        "colab": {}
      },
      "source": [
        "import itertools\n",
        "def plot_confusion_matrix(cm, classes,\n",
        "                          normalize=False,\n",
        "                          title='Confusion Matrix',\n",
        "                          cmap=plt.cm.Blues):\n",
        "    \"\"\"\n",
        "    This function prints and plots the confusion matrix.\n",
        "    Normalization can be applied by setting `normalize=True`.\n",
        "    \"\"\"\n",
        "    if normalize:\n",
        "        cm = cm.astype('float') / cm.sum(axis=1)[:, np.newaxis]\n",
        "        print(\"Normalized confusion matrix\")\n",
        "    else:\n",
        "        print('Confusion matrix, without normalization')\n",
        "\n",
        "    plt.figure(figsize=(10, 10))\n",
        "    plt.imshow(cm, interpolation='nearest', cmap=cmap)\n",
        "    plt.title(title, fontdict={'fontsize':16})\n",
        "    plt.colorbar()\n",
        "    tick_marks = np.arange(len(classes))\n",
        "    plt.xticks(tick_marks, classes, rotation=45)\n",
        "    plt.yticks(tick_marks, classes)\n",
        "\n",
        "    fmt = '.2f' if normalize else 'd'\n",
        "    thresh = cm.max() / 2.\n",
        "    for i, j in itertools.product(range(cm.shape[0]), range(cm.shape[1])):\n",
        "        plt.text(j, i, format(cm[i, j], fmt),\n",
        "                 horizontalalignment=\"center\",\n",
        "                 color=\"white\" if cm[i, j] > thresh else \"black\")\n",
        "\n",
        "    plt.tight_layout()\n",
        "    plt.ylabel('True label')\n",
        "    plt.xlabel('Predicted label')"
      ],
      "execution_count": 0,
      "outputs": []
    },
    {
      "cell_type": "code",
      "metadata": {
        "id": "79a2aYOltMFI",
        "colab_type": "code",
        "outputId": "e01c2260-2afd-461c-ff39-e7500402e0b9",
        "colab": {
          "base_uri": "https://localhost:8080/",
          "height": 747
        }
      },
      "source": [
        "confuse_matrix = confusion_matrix(y_test, prediksi_c1)\n",
        "aaa = ((list(num_per_kelas.iloc[:,1])))\n",
        "plot_confusion_matrix(confuse_matrix, aaa)"
      ],
      "execution_count": 35,
      "outputs": [
        {
          "output_type": "stream",
          "text": [
            "Confusion matrix, without normalization\n"
          ],
          "name": "stdout"
        },
        {
          "output_type": "display_data",
          "data": {
            "image/png": "[encoded data removed]",
            "text/plain": [
              "<Figure size 720x720 with 2 Axes>"
            ]
          },
          "metadata": {
            "tags": []
          }
        }
      ]
    },
    {
      "cell_type": "markdown",
      "metadata": {
        "id": "xsI8j3Ku4o83",
        "colab_type": "text"
      },
      "source": [
        "### F1-Score, Precision, Recall"
      ]
    },
    {
      "cell_type": "code",
      "metadata": {
        "id": "Oe66TYGjwaFX",
        "colab_type": "code",
        "outputId": "31544eec-e31b-4dbf-9ccf-9ac5487cfd05",
        "colab": {
          "base_uri": "https://localhost:8080/",
          "height": 331
        }
      },
      "source": [
        "print(classification_report(y_test, prediksi_c1))"
      ],
      "execution_count": 36,
      "outputs": [
        {
          "output_type": "stream",
          "text": [
            "              precision    recall  f1-score   support\n",
            "\n",
            "           0       0.91      0.87      0.89      1000\n",
            "           1       0.99      0.99      0.99      1000\n",
            "           2       0.92      0.92      0.92      1000\n",
            "           3       0.94      0.96      0.95      1000\n",
            "           4       0.93      0.89      0.91      1000\n",
            "           5       0.99      0.99      0.99      1000\n",
            "           6       0.78      0.84      0.81      1000\n",
            "           7       0.99      0.97      0.98      1000\n",
            "           8       0.99      0.99      0.99      1000\n",
            "           9       0.97      0.98      0.98      1000\n",
            "\n",
            "    accuracy                           0.94     10000\n",
            "   macro avg       0.94      0.94      0.94     10000\n",
            "weighted avg       0.94      0.94      0.94     10000\n",
            "\n"
          ],
          "name": "stdout"
        }
      ]
    },
    {
      "cell_type": "markdown",
      "metadata": {
        "id": "xGvl_8wtEBWr",
        "colab_type": "text"
      },
      "source": [
        "Menebak gambar fashion MNIST menggunakan model yang telah dilatih."
      ]
    },
    {
      "cell_type": "code",
      "metadata": {
        "id": "acVHJ7TU6kSW",
        "colab_type": "code",
        "outputId": "ab25acfa-0488-4006-cddf-89d6c1298923",
        "colab": {
          "base_uri": "https://localhost:8080/",
          "height": 462
        }
      },
      "source": [
        "fig, axes = plt.subplots(2,5)\n",
        "fig.set_size_inches(12, 8)\n",
        "for row in axes:\n",
        "  for axe in row:\n",
        "    idx = np.random.randint(0, 10000)\n",
        "    axe.imshow(X_test[idx,:,:], cmap='gray')\n",
        "    axe.text(0, 35, 'T = {}'.format(nominal[y_test[idx]]), fontdict={'fontsize':12})\n",
        "    axe.text(0, 40, 'P = {}'.format(nominal[prediksi_c1[idx]]), fontdict={'fontsize':12})\n",
        "    if y_test[idx] == prediksi_c1[idx]:\n",
        "      axe.text(0, 45, 'Prediksi Benar', fontdict={'fontsize':12})\n",
        "    else:\n",
        "      axe.text(0, 45, 'Prediksi Salah', fontdict={'fontsize':12})"
      ],
      "execution_count": 41,
      "outputs": [
        {
          "output_type": "display_data",
          "data": {
            "image/png": "[encoded data removed]",
            "text/plain": [
              "<Figure size 864x576 with 10 Axes>"
            ]
          },
          "metadata": {
            "tags": []
          }
        }
      ]
    },
    {
      "cell_type": "code",
      "metadata": {
        "id": "41tRA3Va8ZZM",
        "colab_type": "code",
        "colab": {}
      },
      "source": [
        ""
      ],
      "execution_count": 0,
      "outputs": []
    },
    {
      "cell_type": "markdown",
      "metadata": {
        "id": "jh7gbfKlkZOj",
        "colab_type": "text"
      },
      "source": [
        "# AUTHOR\n",
        "Fadhlan Wissa Hasibuan\n",
        "\n",
        "Dhani Nur Indra Syamputra\n",
        "\n",
        "Ervien Ismunandar\n",
        "\n",
        "Hanif Nata Wijaya\n",
        "\n",
        "*FRESH GRADUATE ACADEMY UNIVERSITAS ISLAM INDONESIA*"
      ]
    },
    {
      "cell_type": "code",
      "metadata": {
        "id": "U96bE6sekul8",
        "colab_type": "code",
        "colab": {}
      },
      "source": [
        ""
      ],
      "execution_count": 0,
      "outputs": []
    }
  ]
}