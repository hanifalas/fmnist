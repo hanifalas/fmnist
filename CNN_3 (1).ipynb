{
  "nbformat": 4,
  "nbformat_minor": 0,
  "metadata": {
    "colab": {
      "name": "CNN_3.ipynb",
      "version": "0.3.2",
      "provenance": []
    },
    "kernelspec": {
      "name": "python3",
      "display_name": "Python 3"
    },
    "accelerator": "GPU"
  },
  "cells": [
    {
      "cell_type": "code",
      "metadata": {
        "id": "KVToBcuRKZ5A",
        "colab_type": "code",
        "colab": {}
      },
      "source": [
        "import numpy as np\n",
        "import pandas as pd\n",
        "import matplotlib.pyplot as plt\n",
        "%matplotlib inline\n",
        "import tensorflow as tf\n",
        "from tensorflow.examples.tutorials.mnist import input_data\n",
        "import keras\n",
        "from keras.datasets import fashion_mnist\n",
        "from keras.models import Sequential\n",
        "from keras.layers import InputLayer, Convolution2D, Conv2D, MaxPooling2D, MaxPool2D\n",
        "from keras.layers import Activation, Dropout, Flatten, Dense\n",
        "from keras.layers.normalization import BatchNormalization\n",
        "from keras.optimizers import Adam, RMSprop\n",
        "from keras.utils import np_utils\n",
        "from sklearn.model_selection import train_test_split\n",
        "from sklearn.metrics import classification_report, confusion_matrix, f1_score, accuracy_score\n"
      ],
      "execution_count": 0,
      "outputs": []
    },
    {
      "cell_type": "markdown",
      "metadata": {
        "id": "Q-lPJbVbX3NN",
        "colab_type": "text"
      },
      "source": [
        "## Memuat Data\n",
        "\n",
        "Data fashion mnist dimuat dari kumpulan-kumpulan dataset yang sudah ada di *library* Keras. Berdasarkan keterangan pada [dokumentasinya](https://keras.io/datasets/#fashion-mnist-database-of-fashion-articles) data itu terdiri suatu data latih yang terdiri dari 60000 *examples* atau observasi-observasi berlabel. Tiap-tiap observasi tersusun atas numpy *array* berukuran 28x28 yang merepresentasikan jumlah *pixel* dari tiap-tiap observasi. Di samping itu juga ada dataset uji, yang meskipun namanya data uji namun juga tetap memiliki label. *Return values*-nya berupa 2 *tuple*. Anggota-anggota dari tiap-tiap *tuple* itu memiliki tipe data numpy *ndarray*."
      ]
    },
    {
      "cell_type": "code",
      "metadata": {
        "id": "SgIYLsoaPCzT",
        "colab_type": "code",
        "colab": {}
      },
      "source": [
        "(X_train, y_train), (X_test, y_test) = fashion_mnist.load_data()"
      ],
      "execution_count": 0,
      "outputs": []
    },
    {
      "cell_type": "markdown",
      "metadata": {
        "id": "xbeOqloiYYWO",
        "colab_type": "text"
      },
      "source": [
        "## Melihat Data dan Memeriksa Data\n",
        "\n",
        "Beberapa cara ditempuh untuk memastikan ukuran data yang dimuat sudah sesuai dengan yang ada didokumentasinya. Untuk ukuran fitur data latihnya tersusun dari 60000 observasi tiap-tiap observasi berukuran 28x28 pixel sehingga ukurang *dataset* fitur latih adalah 60000x28x28 sedangkan untuk *dataset* label latih adalah 60000x1. Untuk data uji, memiliki dimensi data fitur uji 10000x28x28 dan dimensi data label uji 10000x1\n"
      ]
    },
    {
      "cell_type": "code",
      "metadata": {
        "id": "KkSFW-yIYTTm",
        "colab_type": "code",
        "outputId": "64872b54-79b7-40cc-e465-b2a625b9a1bd",
        "colab": {
          "base_uri": "https://localhost:8080/",
          "height": 87
        }
      },
      "source": [
        "print('Ukuran X_train {}'.format(X_train.shape))\n",
        "print('Ukuran y_train {}'.format(y_train.shape))\n",
        "print('Ukuran X_test {}'.format(X_test.shape))\n",
        "print('Ukuran y_test {}'.format(y_test.shape))"
      ],
      "execution_count": 0,
      "outputs": [
        {
          "output_type": "stream",
          "text": [
            "Ukuran X_train (60000, 28, 28)\n",
            "Ukuran y_train (60000,)\n",
            "Ukuran X_test (10000, 28, 28)\n",
            "Ukuran y_test (10000,)\n"
          ],
          "name": "stdout"
        }
      ]
    },
    {
      "cell_type": "markdown",
      "metadata": {
        "id": "6_zMKK5Qhjin",
        "colab_type": "text"
      },
      "source": [
        "Selanjutnya adalah untuk melihat representasi gambar/ ke dalam *pixel* apakah di antara rentang kontinyu 0-1 atau rentang diskrit 0-255. Bisa dilakukan hanya dengan melihat nilai minimal dan maksimalnya. Selain itu perlu juga untuk melihat kemungkinan adanya label yang tidak sesuai. Dari dokumentasi Keras, labelnya ada 10 bernilai 0-9 untuk merepresentasikan label yang sebenarnya. Perlu dilihat bila ada label yang diluar rentang 0-9"
      ]
    },
    {
      "cell_type": "code",
      "metadata": {
        "id": "ZGYtznVPh7EW",
        "colab_type": "code",
        "outputId": "654c2515-35a3-4a9f-f594-25da8c0cc1a3",
        "colab": {
          "base_uri": "https://localhost:8080/",
          "height": 176
        }
      },
      "source": [
        "print('=== X_train ===\\nNilai min = {} nilai max = {}'.format(np.min(X_train), np.max(X_train)))\n",
        "print('\\n=== X_test ===\\nNilai min = {} nilai max = {}'.format(np.min(X_test), np.max(X_test)))\n",
        "print('\\nLabel data latih = {}'.format(np.unique(y_train)))\n",
        "print('\\nLabel data uji = {}'.format(np.unique(y_test)))"
      ],
      "execution_count": 0,
      "outputs": [
        {
          "output_type": "stream",
          "text": [
            "=== X_train ===\n",
            "Nilai min = 0 nilai max = 255\n",
            "\n",
            "=== X_test ===\n",
            "Nilai min = 0 nilai max = 255\n",
            "\n",
            "Label data latih = [0 1 2 3 4 5 6 7 8 9]\n",
            "\n",
            "Label data uji = [0 1 2 3 4 5 6 7 8 9]\n"
          ],
          "name": "stdout"
        }
      ]
    },
    {
      "cell_type": "markdown",
      "metadata": {
        "id": "aLbqIhIbcO2u",
        "colab_type": "text"
      },
      "source": [
        "Untuk melihat lebih jauh lagi tipe data anggota-anggota dari *dataset* tersebut apakah bernilai *integer*, *float* atau malah *string*. Akan lebih mudah jika mengguanakan salah satu metode pandas *dataframe* yaitu, info(). Sehingga datanya perlu diubah dahulu ke dalam *dataframe* pandas. Berdasarkan kode di bawah ini tipe datanya sudah numerik yaitu uint8."
      ]
    },
    {
      "cell_type": "code",
      "metadata": {
        "id": "WvvwvxFPcMmn",
        "colab_type": "code",
        "outputId": "29e49945-edd2-4f54-d2c7-34660b5bfa91",
        "colab": {
          "base_uri": "https://localhost:8080/",
          "height": 674
        }
      },
      "source": [
        "X_train_df = pd.DataFrame(X_train.reshape(X_train.shape[0], X_train.shape[1]*X_train.shape[2]))\n",
        "y_train_df = pd.DataFrame(y_train)\n",
        "X_test_df  = pd.DataFrame(X_test.reshape(X_test.shape[0], X_test.shape[1]*X_test.shape[2]))\n",
        "y_test_df  = pd.DataFrame(y_test)\n",
        "\n",
        "print('Ukuran X_train_df  {}'.format(X_train_df.shape))\n",
        "print('Ukuran y_train_df  {}'.format(y_train_df.shape))\n",
        "print('Ukuran X_test_df  {}'.format(X_test_df.shape))\n",
        "print('Ukuran y_test_df  {}'.format(y_test_df.shape))\n",
        "\n",
        "print('Info X_train')\n",
        "print(X_train_df.info())\n",
        "print('\\nInfo y_train')\n",
        "print(y_train_df.info())\n",
        "print('\\nInfo X_test')\n",
        "print(X_test_df.info())\n",
        "print('\\nInfo y_test')\n",
        "print(y_test_df.info())"
      ],
      "execution_count": 0,
      "outputs": [
        {
          "output_type": "stream",
          "text": [
            "Ukuran X_train_df  (60000, 784)\n",
            "Ukuran y_train_df  (60000, 1)\n",
            "Ukuran X_test_df  (10000, 784)\n",
            "Ukuran y_test_df  (10000, 1)\n",
            "Info X_train\n",
            "<class 'pandas.core.frame.DataFrame'>\n",
            "RangeIndex: 60000 entries, 0 to 59999\n",
            "Columns: 784 entries, 0 to 783\n",
            "dtypes: uint8(784)\n",
            "memory usage: 44.9 MB\n",
            "None\n",
            "\n",
            "Info y_train\n",
            "<class 'pandas.core.frame.DataFrame'>\n",
            "RangeIndex: 60000 entries, 0 to 59999\n",
            "Data columns (total 1 columns):\n",
            "0    60000 non-null uint8\n",
            "dtypes: uint8(1)\n",
            "memory usage: 58.7 KB\n",
            "None\n",
            "\n",
            "Info X_test\n",
            "<class 'pandas.core.frame.DataFrame'>\n",
            "RangeIndex: 10000 entries, 0 to 9999\n",
            "Columns: 784 entries, 0 to 783\n",
            "dtypes: uint8(784)\n",
            "memory usage: 7.5 MB\n",
            "None\n",
            "\n",
            "Info y_test\n",
            "<class 'pandas.core.frame.DataFrame'>\n",
            "RangeIndex: 10000 entries, 0 to 9999\n",
            "Data columns (total 1 columns):\n",
            "0    10000 non-null uint8\n",
            "dtypes: uint8(1)\n",
            "memory usage: 9.8 KB\n",
            "None\n"
          ],
          "name": "stdout"
        }
      ]
    },
    {
      "cell_type": "markdown",
      "metadata": {
        "id": "m7c9Gi8wgZaH",
        "colab_type": "text"
      },
      "source": [
        "Lihat 3 kolom pertama dari masing-masing *dataframe*"
      ]
    },
    {
      "cell_type": "code",
      "metadata": {
        "id": "AXsJpImxgYhR",
        "colab_type": "code",
        "outputId": "5c16ea0d-6b02-4688-d501-6664e0d33277",
        "colab": {
          "base_uri": "https://localhost:8080/",
          "height": 372
        }
      },
      "source": [
        "print(X_train_df.head(3))\n",
        "print(y_train_df.head(3))\n",
        "print(X_test_df.head(3))\n",
        "print(y_test_df.head(3))"
      ],
      "execution_count": 0,
      "outputs": [
        {
          "output_type": "stream",
          "text": [
            "   0    1    2    3    4    5    6    ...  777  778  779  780  781  782  783\n",
            "0    0    0    0    0    0    0    0  ...    0    0    0    0    0    0    0\n",
            "1    0    0    0    0    0    1    0  ...   76    0    0    0    0    0    0\n",
            "2    0    0    0    0    0    0    0  ...    0    0    0    0    0    0    0\n",
            "\n",
            "[3 rows x 784 columns]\n",
            "   0\n",
            "0  9\n",
            "1  0\n",
            "2  0\n",
            "   0    1    2    3    4    5    6    ...  777  778  779  780  781  782  783\n",
            "0    0    0    0    0    0    0    0  ...    0    0    0    0    0    0    0\n",
            "1    0    0    0    0    0    0    0  ...    3  174  189   67    0    0    0\n",
            "2    0    0    0    0    0    0    0  ...    0    0    0    0    0    0    0\n",
            "\n",
            "[3 rows x 784 columns]\n",
            "   0\n",
            "0  9\n",
            "1  2\n",
            "2  1\n"
          ],
          "name": "stdout"
        }
      ]
    },
    {
      "cell_type": "markdown",
      "metadata": {
        "id": "BeR8rTJQkbmD",
        "colab_type": "text"
      },
      "source": [
        "Langkah selanjutnya adalah memeriksa kemungkinan adanya data yang bernilai NaN. Meskipun dari metode info() sudah terlihat tidak memiliki NaN. Namun itu eksplisit hanya pada data label, untuk data fitur hanya implisit saja. Sehingga akan dipastikan menggunakan kode di bawah ini. Pandas *dataframe* dikenakan pada metode isnull() akan bernilai True (1) untuk data bertipe NaN, lainnya False (0). Metode sum() pertama melakukan penjumlahan di sepanjang baris dan *return values*-nya adalah pandas *series* kemudian dijumlahkan kedua kalinya untuk menghitung ada tidaknya nilai NaN. Akan bernilai nol jika tidak ada NaN, bernilai lainnya (bilangan bulat positif) jika ada NaN."
      ]
    },
    {
      "cell_type": "code",
      "metadata": {
        "id": "Ptx9avWbg-in",
        "colab_type": "code",
        "outputId": "670dc42d-236d-43a2-cc16-b7f9916fed7f",
        "colab": {
          "base_uri": "https://localhost:8080/",
          "height": 52
        }
      },
      "source": [
        "print('Jumlah NaN di X_train_df = {}'.format(X_train_df.isnull().sum(axis=0).sum(axis=0)))\n",
        "print('Jumlah NaN di X_test_df = {}'.format(X_test_df.isnull().sum(axis=0).sum(axis=0)))"
      ],
      "execution_count": 0,
      "outputs": [
        {
          "output_type": "stream",
          "text": [
            "Jumlah NaN di X_train_df = 0\n",
            "Jumlah NaN di X_test_df = 0\n"
          ],
          "name": "stdout"
        }
      ]
    },
    {
      "cell_type": "markdown",
      "metadata": {
        "id": "RldSUPOWDBpF",
        "colab_type": "text"
      },
      "source": [
        "Ukuran dari X_train, y_train, X_test dan y_test masih belum sesuai untuk arsitektur CNN. Bentuk dari X_train dan X_test perlu diubah ke bentuk jumlah_observasi x image_height x image_width x image_depth. Untuk y_train dan y_test perlu diubah ke bentuk *one hot*.\n",
        "\n",
        "Selain itu representasi warna dalam angka masih diskrit di antara 0-255 sehingga nilai variabelnya bisa timpang begiupula ketika perhitungan, untuk itu perlu diskalakan ulang menjadi kontinyu di antara 0-1. "
      ]
    },
    {
      "cell_type": "code",
      "metadata": {
        "id": "w1Qb1WrcE5QV",
        "colab_type": "code",
        "outputId": "7e2aa082-93ea-44cc-80f9-80b94317183e",
        "colab": {
          "base_uri": "https://localhost:8080/",
          "height": 34
        }
      },
      "source": [
        "img_height, img_width, img_depth = X_train.shape[1], X_train.shape[2], 1\n",
        "print(img_height, img_width, img_depth)"
      ],
      "execution_count": 0,
      "outputs": [
        {
          "output_type": "stream",
          "text": [
            "28 28 1\n"
          ],
          "name": "stdout"
        }
      ]
    },
    {
      "cell_type": "markdown",
      "metadata": {
        "id": "dai2DvTzOvsF",
        "colab_type": "text"
      },
      "source": [
        "Code dibawah ini untuk mengubah ukuran dari (jumlah_observasi x 28 x 28) menjadi (jumlah_observasi x 28 x 28 x1)dan juga untuk menskalakan ulang representasi warna menjadi kontinyu di antara 0-1. Selain itu juga mengubah nilai label ke bentuk *one hot*-nya sehingga bentuknya menjadi (jumlah_observasi x humlah_kelas).  "
      ]
    },
    {
      "cell_type": "code",
      "metadata": {
        "id": "iuHlXamgEDjC",
        "colab_type": "code",
        "colab": {}
      },
      "source": [
        "def reshape(fitur, target):\n",
        "  fitur = fitur.reshape(fitur.shape[0], img_height, img_width, img_depth)\n",
        "  target = np_utils.to_categorical(target, 10)\n",
        "  fitur = fitur.astype('float32')\n",
        "  fitur = fitur/255\n",
        "  return fitur, target"
      ],
      "execution_count": 0,
      "outputs": []
    },
    {
      "cell_type": "code",
      "metadata": {
        "id": "XoLsUAIbGmqk",
        "colab_type": "code",
        "outputId": "6320af0e-4c61-4ebe-f5ef-a3c199ccba44",
        "colab": {
          "base_uri": "https://localhost:8080/",
          "height": 176
        }
      },
      "source": [
        "X_train_baru, y_train_baru = reshape(X_train, y_train)\n",
        "X_test_baru, y_test_baru = reshape(X_test, y_test)\n",
        "\n",
        "# Cek ulang beberapa hal\n",
        "print('Ukuran X_train_baru {}'.format(X_train_baru.shape))\n",
        "print('Ukuran y_train_baru {}'.format(y_train_baru.shape))\n",
        "print('Ukuran X_test_bar {}'.format(X_test_baru.shape))\n",
        "print('Ukuran y_test_baru {}'.format(y_test_baru.shape))\n",
        "\n",
        "print('\\n=== X_train_baru ===\\nNilai min = {} nilai max = {}'.format(np.min(X_train_baru), np.max(X_train_baru)))\n",
        "print('\\n=== X_test_baru ===\\nNilai min = {} nilai max = {}'.format(np.min(X_test_baru), np.max(X_test_baru)))"
      ],
      "execution_count": 0,
      "outputs": [
        {
          "output_type": "stream",
          "text": [
            "Ukuran X_train_baru (60000, 28, 28, 1)\n",
            "Ukuran y_train_baru (60000, 10)\n",
            "Ukuran X_test_bar (10000, 28, 28, 1)\n",
            "Ukuran y_test_baru (10000, 10)\n",
            "=== X_train_baru ===\n",
            "Nilai min = 0.0 nilai max = 1.0\n",
            "\n",
            "=== X_test_baru ===\n",
            "Nilai min = 0.0 nilai max = 1.0\n"
          ],
          "name": "stdout"
        }
      ]
    },
    {
      "cell_type": "markdown",
      "metadata": {
        "id": "4ZgAHp-IzArc",
        "colab_type": "text"
      },
      "source": [
        "## Visualisasi Data\n",
        "\n",
        "Visualisasi data yang pertama adalah digunakan untuk mengetahui jumlah observasi dari masing-masing kelas pada dataset latih dan dataset uji. Tiap-t"
      ]
    },
    {
      "cell_type": "code",
      "metadata": {
        "id": "5_Qh3hw3WoHH",
        "colab_type": "code",
        "colab": {}
      },
      "source": [
        "def bar_plot(data1, labels1, jenis): #data1=X_train, labels1=y_train\n",
        "  uplot_df = pd.DataFrame(data1.reshape(data1.shape[0], data1.shape[1]*data1.shape[2]))\n",
        "  uplot_df[784] = labels1\n",
        "  num_per_kelas = pd.DataFrame((uplot_df.groupby(784).size()))\n",
        "  num_per_kelas[1] = range(0,10)\n",
        "\n",
        "  nominal = {0:'T-shirt/top',\n",
        "             1:'Trouser',\n",
        "             2:'Dress',\n",
        "             3:'Dress',\n",
        "             4:'Coat',\n",
        "             5:'Sandal',\n",
        "             6:'Shirt',\n",
        "             7:'Sneaker',\n",
        "             8:'Bag',\n",
        "             9:'Ankle boot'}\n",
        "\n",
        "  num_per_kelas[1] = num_per_kelas[1].map(nominal)\n",
        "  plt.bar(x=num_per_kelas[1], height=num_per_kelas[0], color='green')\n",
        "  plt.title('Grafik Jumlah Observasi pada Suatu Kelas di Dataset '+str(jenis))\n",
        "  plt.show()"
      ],
      "execution_count": 0,
      "outputs": []
    },
    {
      "cell_type": "code",
      "metadata": {
        "id": "Z-T7raDKWxKq",
        "colab_type": "code",
        "outputId": "1b94d831-4b44-4a45-eef1-e9a4da1ba463",
        "colab": {
          "base_uri": "https://localhost:8080/",
          "height": 545
        }
      },
      "source": [
        "bar_plot(X_train, y_train, 'Latih')\n",
        "bar_plot(X_test, y_test, 'Uji')"
      ],
      "execution_count": 0,
      "outputs": [
        {
          "output_type": "display_data",
          "data": {
            "image/png": "[encoded data removed]",
            "text/plain": [
              "<Figure size 432x288 with 1 Axes>"
            ]
          },
          "metadata": {
            "tags": []
          }
        },
        {
          "output_type": "display_data",
          "data": {
            "image/png": "[encoded data removed]",
            "text/plain": [
              "<Figure size 432x288 with 1 Axes>"
            ]
          },
          "metadata": {
            "tags": []
          }
        }
      ]
    },
    {
      "cell_type": "markdown",
      "metadata": {
        "id": "Xv0ZQeVIMFYg",
        "colab_type": "text"
      },
      "source": [
        "## Arsitektur CNN 1 \n",
        "\n",
        "Arsitektur ConvNet ini terdiri dari 1 lapisan masukan (*input*), 4 lapisan konvolusi dan 2 lapisan *fully concected standard neural network* sebagai *hidden layer*-nya, dan 1 lapisan keluaran (*output*). \n",
        "\n",
        "*Hidden layer* yang pertama berupa lapisan konvolusi yang memiliki 64 *filter* dengan ukuran 4 x 4. Fungsi aktifasi yang digunakan adalah ReLU dan *padding*-nya bernilai *'same'*. Sehingga menghasilkan output dengan tinggi x lebar yang sama seperti input yaitu (28 x 28) ditambah ke dalaman 64 lapis (28 x 28 x 64).\n",
        "\n",
        "*Hidden layer* kedua juga berupa lapisan konvolusi dengan argumen-argumen yang sama. Namun memiliki *maximum pooling* dengan ukuran (2 x 2) dan *stride* = 2 sehingga ouputnya adalah separuh dari sebelumnya, yaitu (14 x 14 x 64). Kemudian hanya 75% yang digunakan (*dropout* = 25%)\n",
        "\n",
        "*Hidden layer* ketiga berupa lapisan konvolusi yang memiliki 64 *filter* berukuran (3 x 3). Fungsi aktifasi yang digunakan adalah ReLU dan *padding*-nya bernilai *'same'*. Sehingga menghasilkan output dengan tinggi x lebar x kedalaman yang sama seperti input yaitu (14 x 14 x 64).\n",
        "\n",
        "*Hidden layer* keempat berupa lapisan konvolusi yang memiliki 64 *filter* berukuran (3 x 3). Namun diikuti dengan *maximum pooling* untuk memperkecil *feature map*/ *convolved layer* menjadi berukuran separuhnya (7 x 7 x 64). Dan digunakan hanya 0.6 bagiannya saja (*dropout* = 0.4)\n",
        "\n",
        "Kemudian lapisan-lapisan konvolusi itu dihubungkan dengan lapisan *fully connected*/ *standard neural network*. Pertama kali output dari CNN perlu didatarkan kemudian dinormalisasi.\n",
        "Lapisan *fully connected* yang pertama memiliki 512 *neuron* sedangkan yang kedua memiliki 64 *neuron*. Keduanya menggunakan fungsi aktifasi ReLU dan *dropout* = 0.2. *Output* lapisan *fully connected* kedua dinormalisasi.\n",
        "\n",
        "Lapisan-lapisan yang sebelumnya itu kemudian dihubungkan dengan lapisan *output* yang memiliki 10 *neuron* untuk merepresentasikan kelas. Fungsi aktifasi yang digunakan adalah softmax.\n",
        "\n",
        "Untuk menghitung *cost function* digunakan *categorical costentropy* menggunakan pengoptimasi Adam."
      ]
    },
    {
      "cell_type": "code",
      "metadata": {
        "id": "xZR6g2mrMIDW",
        "colab_type": "code",
        "outputId": "b6de8c4d-ad48-4d04-c090-34846383d18e",
        "colab": {
          "base_uri": "https://localhost:8080/",
          "height": 710
        }
      },
      "source": [
        "def cnn1():\n",
        "  cnn = Sequential()\n",
        "  \n",
        "  cnn.add(InputLayer(input_shape=(img_height, img_width, img_depth)))\n",
        "  \n",
        "  cnn.add(Convolution2D(64, (4, 4), padding='same', activation='relu'))\n",
        "  \n",
        "  cnn.add(Convolution2D(64, (4, 4), padding='same', activation='relu'))\n",
        "  cnn.add(MaxPooling2D(pool_size=(2, 2)))\n",
        "  cnn.add(Dropout(0.25))\n",
        "  \n",
        "  cnn.add(Convolution2D(64, (3, 3), padding='same', activation='relu'))\n",
        "  \n",
        "  cnn.add(Convolution2D(64, (3, 3), padding='same', activation='relu'))\n",
        "  cnn.add(MaxPooling2D(pool_size=(2, 2)))\n",
        "  cnn.add(Dropout(0.4))\n",
        "  \n",
        "  cnn.add(Flatten())\n",
        "  cnn.add(BatchNormalization())\n",
        "  \n",
        "  cnn.add(Dense(512, activation='relu'))\n",
        "  cnn.add(Dropout(0.2))\n",
        "  \n",
        "  cnn.add(Dense(64, activation='relu'))\n",
        "  cnn.add(BatchNormalization())\n",
        "  cnn.add(Dropout(0.2))\n",
        "  \n",
        "  cnn.add(Dense(10, activation='softmax'))\n",
        "  cnn.compile(loss='categorical_crossentropy',\n",
        "              optimizer= Adam(),\n",
        "              metrics=['accuracy'])\n",
        "\n",
        "  return cnn\n",
        "cnn1().summary()"
      ],
      "execution_count": 0,
      "outputs": [
        {
          "output_type": "stream",
          "text": [
            "_________________________________________________________________\n",
            "Layer (type)                 Output Shape              Param #   \n",
            "=================================================================\n",
            "conv2d_21 (Conv2D)           (None, 28, 28, 64)        1088      \n",
            "_________________________________________________________________\n",
            "conv2d_22 (Conv2D)           (None, 28, 28, 64)        65600     \n",
            "_________________________________________________________________\n",
            "max_pooling2d_11 (MaxPooling (None, 14, 14, 64)        0         \n",
            "_________________________________________________________________\n",
            "dropout_21 (Dropout)         (None, 14, 14, 64)        0         \n",
            "_________________________________________________________________\n",
            "conv2d_23 (Conv2D)           (None, 14, 14, 64)        36928     \n",
            "_________________________________________________________________\n",
            "conv2d_24 (Conv2D)           (None, 14, 14, 64)        36928     \n",
            "_________________________________________________________________\n",
            "max_pooling2d_12 (MaxPooling (None, 7, 7, 64)          0         \n",
            "_________________________________________________________________\n",
            "dropout_22 (Dropout)         (None, 7, 7, 64)          0         \n",
            "_________________________________________________________________\n",
            "flatten_6 (Flatten)          (None, 3136)              0         \n",
            "_________________________________________________________________\n",
            "batch_normalization_11 (Batc (None, 3136)              12544     \n",
            "_________________________________________________________________\n",
            "dense_16 (Dense)             (None, 512)               1606144   \n",
            "_________________________________________________________________\n",
            "dropout_23 (Dropout)         (None, 512)               0         \n",
            "_________________________________________________________________\n",
            "dense_17 (Dense)             (None, 64)                32832     \n",
            "_________________________________________________________________\n",
            "batch_normalization_12 (Batc (None, 64)                256       \n",
            "_________________________________________________________________\n",
            "dropout_24 (Dropout)         (None, 64)                0         \n",
            "_________________________________________________________________\n",
            "dense_18 (Dense)             (None, 10)                650       \n",
            "=================================================================\n",
            "Total params: 1,792,970\n",
            "Trainable params: 1,786,570\n",
            "Non-trainable params: 6,400\n",
            "_________________________________________________________________\n"
          ],
          "name": "stdout"
        }
      ]
    },
    {
      "cell_type": "markdown",
      "metadata": {
        "id": "I56QO_drk4Qo",
        "colab_type": "text"
      },
      "source": [
        "Dibagian ini, data latih yang memiliki 60000 observasi akan dipecah secara acak menjadi data latih sebanyak 80% dan data validasi sebanyak 20% menggunakan *module* train_test_split. Menghasilkan 48000 data digunakan sebagai data latih dan 12000 data sebagai data validasi."
      ]
    },
    {
      "cell_type": "code",
      "metadata": {
        "id": "rIOl64bS_Hq1",
        "colab_type": "code",
        "colab": {}
      },
      "source": [
        "X_train_baru1, X_val, y_train_baru1, y_val = train_test_split(\n",
        "    X_train_baru, y_train_baru, test_size=0.2, random_state=50\n",
        ")"
      ],
      "execution_count": 0,
      "outputs": []
    },
    {
      "cell_type": "code",
      "metadata": {
        "id": "BJalajXHAAve",
        "colab_type": "code",
        "outputId": "c4481aff-a471-4433-ec75-d287d7897641",
        "colab": {
          "base_uri": "https://localhost:8080/",
          "height": 52
        }
      },
      "source": [
        "print(X_train_baru1.shape, y_train_baru1.shape)\n",
        "print(X_val.shape, y_val.shape)\n"
      ],
      "execution_count": 0,
      "outputs": [
        {
          "output_type": "stream",
          "text": [
            "(48000, 28, 28, 1) (48000, 10)\n",
            "(12000, 28, 28, 1) (12000, 10)\n"
          ],
          "name": "stdout"
        }
      ]
    },
    {
      "cell_type": "markdown",
      "metadata": {
        "id": "jqncSbo2lVr0",
        "colab_type": "text"
      },
      "source": [
        "Bagian ini memulai melatih model dari arsitektur 1 menggunakan ukuran batch 250 dan *epoch* 60 kali. Model ini kemudian dihitung *loss* dan akurasinya di data validasi juga."
      ]
    },
    {
      "cell_type": "code",
      "metadata": {
        "id": "Hdppun8EMM4u",
        "colab_type": "code",
        "outputId": "523ba0ce-4c63-4d6d-c37c-bf54d3c0b811",
        "colab": {
          "base_uri": "https://localhost:8080/",
          "height": 1000
        }
      },
      "source": [
        "historia = cnn1().fit(\n",
        "                      X_train_baru1,\n",
        "                      y_train_baru1,\n",
        "                      batch_size = 250,\n",
        "                      epochs = 60,\n",
        "                      verbose = 1,\n",
        "                      validation_data = (X_val, y_val)\n",
        "                      )"
      ],
      "execution_count": 0,
      "outputs": [
        {
          "output_type": "stream",
          "text": [
            "Train on 48000 samples, validate on 12000 samples\n",
            "Epoch 1/60\n",
            "48000/48000 [==============================] - 8s 172us/step - loss: 0.5944 - acc: 0.7900 - val_loss: 0.3338 - val_acc: 0.8796\n",
            "Epoch 2/60\n",
            "48000/48000 [==============================] - 7s 140us/step - loss: 0.3444 - acc: 0.8763 - val_loss: 0.2756 - val_acc: 0.8966\n",
            "Epoch 3/60\n",
            "48000/48000 [==============================] - 7s 142us/step - loss: 0.2891 - acc: 0.8950 - val_loss: 0.2412 - val_acc: 0.9055\n",
            "Epoch 4/60\n",
            "48000/48000 [==============================] - 7s 141us/step - loss: 0.2567 - acc: 0.9073 - val_loss: 0.2138 - val_acc: 0.9196\n",
            "Epoch 5/60\n",
            "48000/48000 [==============================] - 7s 142us/step - loss: 0.2362 - acc: 0.9148 - val_loss: 0.2095 - val_acc: 0.9204\n",
            "Epoch 6/60\n",
            "48000/48000 [==============================] - 7s 142us/step - loss: 0.2190 - acc: 0.9193 - val_loss: 0.2158 - val_acc: 0.9180\n",
            "Epoch 7/60\n",
            "48000/48000 [==============================] - 7s 142us/step - loss: 0.2063 - acc: 0.9251 - val_loss: 0.1975 - val_acc: 0.9247\n",
            "Epoch 8/60\n",
            "48000/48000 [==============================] - 7s 142us/step - loss: 0.1900 - acc: 0.9297 - val_loss: 0.1928 - val_acc: 0.9288\n",
            "Epoch 9/60\n",
            "48000/48000 [==============================] - 7s 142us/step - loss: 0.1794 - acc: 0.9342 - val_loss: 0.1787 - val_acc: 0.9330\n",
            "Epoch 10/60\n",
            "48000/48000 [==============================] - 7s 142us/step - loss: 0.1732 - acc: 0.9361 - val_loss: 0.2048 - val_acc: 0.9253\n",
            "Epoch 11/60\n",
            "48000/48000 [==============================] - 7s 142us/step - loss: 0.1617 - acc: 0.9401 - val_loss: 0.1922 - val_acc: 0.9297\n",
            "Epoch 12/60\n",
            "48000/48000 [==============================] - 7s 143us/step - loss: 0.1541 - acc: 0.9444 - val_loss: 0.1780 - val_acc: 0.9327\n",
            "Epoch 13/60\n",
            "48000/48000 [==============================] - 7s 143us/step - loss: 0.1475 - acc: 0.9453 - val_loss: 0.1767 - val_acc: 0.9352\n",
            "Epoch 14/60\n",
            "48000/48000 [==============================] - 7s 144us/step - loss: 0.1377 - acc: 0.9496 - val_loss: 0.1902 - val_acc: 0.9319\n",
            "Epoch 15/60\n",
            "48000/48000 [==============================] - 7s 144us/step - loss: 0.1283 - acc: 0.9525 - val_loss: 0.1827 - val_acc: 0.9366\n",
            "Epoch 16/60\n",
            "48000/48000 [==============================] - 7s 144us/step - loss: 0.1243 - acc: 0.9544 - val_loss: 0.1938 - val_acc: 0.9330\n",
            "Epoch 17/60\n",
            "48000/48000 [==============================] - 7s 144us/step - loss: 0.1172 - acc: 0.9568 - val_loss: 0.2164 - val_acc: 0.9296\n",
            "Epoch 18/60\n",
            "48000/48000 [==============================] - 7s 144us/step - loss: 0.1131 - acc: 0.9584 - val_loss: 0.1987 - val_acc: 0.9324\n",
            "Epoch 19/60\n",
            "48000/48000 [==============================] - 7s 144us/step - loss: 0.1048 - acc: 0.9609 - val_loss: 0.1802 - val_acc: 0.9361\n",
            "Epoch 20/60\n",
            "48000/48000 [==============================] - 7s 145us/step - loss: 0.1012 - acc: 0.9632 - val_loss: 0.1973 - val_acc: 0.9350\n",
            "Epoch 21/60\n",
            "48000/48000 [==============================] - 7s 144us/step - loss: 0.0952 - acc: 0.9649 - val_loss: 0.1918 - val_acc: 0.9379\n",
            "Epoch 22/60\n",
            "48000/48000 [==============================] - 7s 146us/step - loss: 0.0936 - acc: 0.9657 - val_loss: 0.2025 - val_acc: 0.9362\n",
            "Epoch 23/60\n",
            "48000/48000 [==============================] - 7s 146us/step - loss: 0.0862 - acc: 0.9681 - val_loss: 0.2115 - val_acc: 0.9348\n",
            "Epoch 24/60\n",
            "48000/48000 [==============================] - 7s 145us/step - loss: 0.0850 - acc: 0.9674 - val_loss: 0.1864 - val_acc: 0.9394\n",
            "Epoch 25/60\n",
            "48000/48000 [==============================] - 7s 144us/step - loss: 0.0813 - acc: 0.9705 - val_loss: 0.1873 - val_acc: 0.9385\n",
            "Epoch 26/60\n",
            "48000/48000 [==============================] - 7s 145us/step - loss: 0.0768 - acc: 0.9720 - val_loss: 0.1979 - val_acc: 0.9394\n",
            "Epoch 27/60\n",
            "48000/48000 [==============================] - 7s 145us/step - loss: 0.0711 - acc: 0.9743 - val_loss: 0.1974 - val_acc: 0.9391\n",
            "Epoch 28/60\n",
            "48000/48000 [==============================] - 7s 145us/step - loss: 0.0677 - acc: 0.9757 - val_loss: 0.1972 - val_acc: 0.9382\n",
            "Epoch 29/60\n",
            "48000/48000 [==============================] - 7s 145us/step - loss: 0.0671 - acc: 0.9753 - val_loss: 0.1906 - val_acc: 0.9409\n",
            "Epoch 30/60\n",
            "48000/48000 [==============================] - 7s 145us/step - loss: 0.0640 - acc: 0.9774 - val_loss: 0.1915 - val_acc: 0.9412\n",
            "Epoch 31/60\n",
            "48000/48000 [==============================] - 7s 145us/step - loss: 0.0624 - acc: 0.9768 - val_loss: 0.2247 - val_acc: 0.9348\n",
            "Epoch 32/60\n",
            "48000/48000 [==============================] - 7s 145us/step - loss: 0.0603 - acc: 0.9775 - val_loss: 0.2061 - val_acc: 0.9379\n",
            "Epoch 33/60\n",
            "48000/48000 [==============================] - 7s 145us/step - loss: 0.0600 - acc: 0.9780 - val_loss: 0.1939 - val_acc: 0.9395\n",
            "Epoch 34/60\n",
            "48000/48000 [==============================] - 7s 145us/step - loss: 0.0526 - acc: 0.9806 - val_loss: 0.2188 - val_acc: 0.9380\n",
            "Epoch 35/60\n",
            "48000/48000 [==============================] - 7s 145us/step - loss: 0.0528 - acc: 0.9811 - val_loss: 0.2364 - val_acc: 0.9389\n",
            "Epoch 36/60\n",
            "48000/48000 [==============================] - 7s 145us/step - loss: 0.0515 - acc: 0.9810 - val_loss: 0.2153 - val_acc: 0.9409\n",
            "Epoch 37/60\n",
            "48000/48000 [==============================] - 7s 145us/step - loss: 0.0536 - acc: 0.9805 - val_loss: 0.2091 - val_acc: 0.9398\n",
            "Epoch 38/60\n",
            "48000/48000 [==============================] - 7s 145us/step - loss: 0.0501 - acc: 0.9816 - val_loss: 0.1975 - val_acc: 0.9394\n",
            "Epoch 39/60\n",
            "48000/48000 [==============================] - 7s 144us/step - loss: 0.0487 - acc: 0.9828 - val_loss: 0.2171 - val_acc: 0.9364\n",
            "Epoch 40/60\n",
            "48000/48000 [==============================] - 7s 145us/step - loss: 0.0467 - acc: 0.9832 - val_loss: 0.2089 - val_acc: 0.9397\n",
            "Epoch 41/60\n",
            "48000/48000 [==============================] - 7s 145us/step - loss: 0.0441 - acc: 0.9838 - val_loss: 0.2149 - val_acc: 0.9398\n",
            "Epoch 42/60\n",
            "48000/48000 [==============================] - 7s 145us/step - loss: 0.0433 - acc: 0.9839 - val_loss: 0.2145 - val_acc: 0.9398\n",
            "Epoch 43/60\n",
            "48000/48000 [==============================] - 7s 145us/step - loss: 0.0441 - acc: 0.9841 - val_loss: 0.2377 - val_acc: 0.9397\n",
            "Epoch 44/60\n",
            "48000/48000 [==============================] - 7s 145us/step - loss: 0.0422 - acc: 0.9853 - val_loss: 0.2374 - val_acc: 0.9357\n",
            "Epoch 45/60\n",
            "48000/48000 [==============================] - 7s 145us/step - loss: 0.0414 - acc: 0.9858 - val_loss: 0.2440 - val_acc: 0.9387\n",
            "Epoch 46/60\n",
            "48000/48000 [==============================] - 7s 145us/step - loss: 0.0397 - acc: 0.9855 - val_loss: 0.2235 - val_acc: 0.9406\n",
            "Epoch 47/60\n",
            "48000/48000 [==============================] - 7s 145us/step - loss: 0.0385 - acc: 0.9864 - val_loss: 0.2323 - val_acc: 0.9406\n",
            "Epoch 48/60\n",
            "48000/48000 [==============================] - 7s 145us/step - loss: 0.0393 - acc: 0.9860 - val_loss: 0.2191 - val_acc: 0.9414\n",
            "Epoch 49/60\n",
            "48000/48000 [==============================] - 7s 145us/step - loss: 0.0372 - acc: 0.9872 - val_loss: 0.2296 - val_acc: 0.9393\n",
            "Epoch 50/60\n",
            "48000/48000 [==============================] - 7s 145us/step - loss: 0.0372 - acc: 0.9864 - val_loss: 0.2338 - val_acc: 0.9393\n",
            "Epoch 51/60\n",
            "48000/48000 [==============================] - 7s 145us/step - loss: 0.0370 - acc: 0.9870 - val_loss: 0.2386 - val_acc: 0.9394\n",
            "Epoch 52/60\n",
            "48000/48000 [==============================] - 7s 145us/step - loss: 0.0336 - acc: 0.9879 - val_loss: 0.2494 - val_acc: 0.9387\n",
            "Epoch 53/60\n",
            "48000/48000 [==============================] - 7s 145us/step - loss: 0.0335 - acc: 0.9886 - val_loss: 0.2203 - val_acc: 0.9403\n",
            "Epoch 54/60\n",
            "48000/48000 [==============================] - 7s 145us/step - loss: 0.0340 - acc: 0.9880 - val_loss: 0.2251 - val_acc: 0.9411\n",
            "Epoch 55/60\n",
            "48000/48000 [==============================] - 7s 144us/step - loss: 0.0306 - acc: 0.9894 - val_loss: 0.2288 - val_acc: 0.9395\n",
            "Epoch 56/60\n",
            "48000/48000 [==============================] - 7s 144us/step - loss: 0.0323 - acc: 0.9884 - val_loss: 0.2535 - val_acc: 0.9401\n",
            "Epoch 57/60\n",
            "48000/48000 [==============================] - 7s 145us/step - loss: 0.0304 - acc: 0.9891 - val_loss: 0.2380 - val_acc: 0.9412\n",
            "Epoch 58/60\n",
            "48000/48000 [==============================] - 7s 145us/step - loss: 0.0308 - acc: 0.9893 - val_loss: 0.2417 - val_acc: 0.9417\n",
            "Epoch 59/60\n",
            "48000/48000 [==============================] - 7s 145us/step - loss: 0.0301 - acc: 0.9888 - val_loss: 0.2332 - val_acc: 0.9391\n",
            "Epoch 60/60\n",
            "48000/48000 [==============================] - 7s 145us/step - loss: 0.0325 - acc: 0.9885 - val_loss: 0.2529 - val_acc: 0.9392\n"
          ],
          "name": "stdout"
        }
      ]
    },
    {
      "cell_type": "markdown",
      "metadata": {
        "id": "OFv98zPZluMl",
        "colab_type": "text"
      },
      "source": [
        "Bagian ini digunakan untuk menampakkan grafik akurasi dan *loss* dari model yang sudah dilatih di data latih dan divalidasi di data validasi."
      ]
    },
    {
      "cell_type": "code",
      "metadata": {
        "id": "LDvltPgLMgU9",
        "colab_type": "code",
        "outputId": "b4369d92-b172-4f37-a07c-f5c55e1923b3",
        "colab": {
          "base_uri": "https://localhost:8080/",
          "height": 607
        }
      },
      "source": [
        "# Siapkan data untuk plotting loss dan akurasi pada data laith dan validasi\n",
        "loss = historia.history['loss']\n",
        "acc  = historia.history['acc']\n",
        "val_loss = historia.history['val_loss']\n",
        "val_acc = historia.history['val_acc']\n",
        "\n",
        "print(type(loss))\n",
        "print(len(loss))\n",
        "\n",
        "# loss plot\n",
        "tra = plt.plot(loss)\n",
        "val = plt.plot(val_loss, 'r')\n",
        "plt.xlabel('Epochs')\n",
        "plt.ylabel('Loss')\n",
        "plt.title('Loss')\n",
        "plt.legend([\"Training\", \"Validation\"])\n",
        "\n",
        "plt.show()\n",
        "\n",
        "# accuracy plot\n",
        "plt.plot(acc)\n",
        "plt.plot(val_acc, 'r')\n",
        "plt.xlabel('Epochs')\n",
        "plt.ylabel('Akurasi')\n",
        "plt.title('Akurasi')\n",
        "plt.legend(['Training', 'Validation'], loc=4)\n",
        "plt.show()"
      ],
      "execution_count": 0,
      "outputs": [
        {
          "output_type": "stream",
          "text": [
            "<class 'list'>\n",
            "60\n"
          ],
          "name": "stdout"
        },
        {
          "output_type": "display_data",
          "data": {
            "image/png": "[encoded data removed]",
            "text/plain": [
              "<Figure size 432x288 with 1 Axes>"
            ]
          },
          "metadata": {
            "tags": []
          }
        },
        {
          "output_type": "display_data",
          "data": {
            "image/png": "[encoded data removed]",
            "text/plain": [
              "<Figure size 432x288 with 1 Axes>"
            ]
          },
          "metadata": {
            "tags": []
          }
        }
      ]
    },
    {
      "cell_type": "markdown",
      "metadata": {
        "id": "ou93qzk2mIdM",
        "colab_type": "text"
      },
      "source": [
        "Kemudian model yang telah dilatih itu menghasilkan suatu model yang bisa digunakan untuk memprediksi akurasi dan *loss* ketika model itu digunakan di data uji."
      ]
    },
    {
      "cell_type": "code",
      "metadata": {
        "id": "PynIo0dcHEgU",
        "colab_type": "code",
        "colab": {}
      },
      "source": [
        "model_1 = historia.model"
      ],
      "execution_count": 0,
      "outputs": []
    },
    {
      "cell_type": "code",
      "metadata": {
        "id": "d9PpIuL8KxjZ",
        "colab_type": "code",
        "outputId": "1caf8b24-17ae-4b4f-fb05-c87c74fe38cb",
        "colab": {
          "base_uri": "https://localhost:8080/",
          "height": 34
        }
      },
      "source": [
        "prediksi = model_1.predict(X_test_baru)\n",
        "prediksi1 = np.argmax(prediksi, axis=1)\n",
        "print('Akurasi model di data uji= {}'.format(np.round(accuracy_score(y_test, prediksi1)*100, 2)))"
      ],
      "execution_count": 0,
      "outputs": [
        {
          "output_type": "stream",
          "text": [
            "Akurasi model di data uji= 93.43\n"
          ],
          "name": "stdout"
        }
      ]
    },
    {
      "cell_type": "code",
      "metadata": {
        "id": "iRXYm3-9OOJj",
        "colab_type": "code",
        "colab": {}
      },
      "source": [
        ""
      ],
      "execution_count": 0,
      "outputs": []
    }
  ]
}